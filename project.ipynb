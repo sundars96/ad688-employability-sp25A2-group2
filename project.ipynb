{
 "cells": [
  {
   "cell_type": "code",
   "execution_count": 1,
   "metadata": {},
   "outputs": [
    {
     "name": "stdout",
     "output_type": "stream",
     "text": [
      "\u001b[1;31merror\u001b[0m: \u001b[1mexternally-managed-environment\u001b[0m\n",
      "\n",
      "\u001b[31m×\u001b[0m This environment is externally managed\n",
      "\u001b[31m╰─>\u001b[0m To install Python packages system-wide, try apt install\n",
      "\u001b[31m   \u001b[0m python3-xyz, where xyz is the package you are trying to\n",
      "\u001b[31m   \u001b[0m install.\n",
      "\u001b[31m   \u001b[0m \n",
      "\u001b[31m   \u001b[0m If you wish to install a non-Debian-packaged Python package,\n",
      "\u001b[31m   \u001b[0m create a virtual environment using python3 -m venv path/to/venv.\n",
      "\u001b[31m   \u001b[0m Then use path/to/venv/bin/python and path/to/venv/bin/pip. Make\n",
      "\u001b[31m   \u001b[0m sure you have python3-full installed.\n",
      "\u001b[31m   \u001b[0m \n",
      "\u001b[31m   \u001b[0m If you wish to install a non-Debian packaged Python application,\n",
      "\u001b[31m   \u001b[0m it may be easiest to use pipx install xyz, which will manage a\n",
      "\u001b[31m   \u001b[0m virtual environment for you. Make sure you have pipx installed.\n",
      "\u001b[31m   \u001b[0m \n",
      "\u001b[31m   \u001b[0m See /usr/share/doc/python3.12/README.venv for more information.\n",
      "\n",
      "\u001b[1;35mnote\u001b[0m: If you believe this is a mistake, please contact your Python installation or OS distribution provider. You can override this, at the risk of breaking your Python installation or OS, by passing --break-system-packages.\n",
      "\u001b[1;36mhint\u001b[0m: See PEP 668 for the detailed specification.\n"
     ]
    }
   ],
   "source": [
    "!pip install pyspark\n"
   ]
  },
  {
   "cell_type": "code",
   "execution_count": 2,
   "metadata": {},
   "outputs": [
    {
     "name": "stderr",
     "output_type": "stream",
     "text": [
      "Setting default log level to \"WARN\".\n",
      "To adjust logging level use sc.setLogLevel(newLevel). For SparkR, use setLogLevel(newLevel).\n",
      "25/05/01 14:33:24 WARN NativeCodeLoader: Unable to load native-hadoop library for your platform... using builtin-java classes where applicable\n",
      "                                                                                \r"
     ]
    }
   ],
   "source": [
    "from pyspark.sql import SparkSession\n",
    "from pyspark.sql.functions import col\n",
    "\n",
    "# Step 1: Create Spark session\n",
    "spark = SparkSession.builder.appName(\"SampleJobData\").getOrCreate()\n",
    "\n",
    "# Step 2: Load CSV\n",
    "df = spark.read.option(\"header\", True).option(\"inferSchema\", True).csv(\"lightcast_job_postings.csv\")\n",
    "\n",
    "\n",
    "\n"
   ]
  },
  {
   "cell_type": "code",
   "execution_count": 3,
   "metadata": {},
   "outputs": [
    {
     "name": "stdout",
     "output_type": "stream",
     "text": [
      "root\n",
      " |-- ID: string (nullable = true)\n",
      " |-- LAST_UPDATED_DATE: string (nullable = true)\n",
      " |-- LAST_UPDATED_TIMESTAMP: string (nullable = true)\n",
      " |-- DUPLICATES: string (nullable = true)\n",
      " |-- POSTED: string (nullable = true)\n",
      " |-- EXPIRED: string (nullable = true)\n",
      " |-- DURATION: string (nullable = true)\n",
      " |-- SOURCE_TYPES: string (nullable = true)\n",
      " |-- SOURCES: string (nullable = true)\n",
      " |-- URL: string (nullable = true)\n",
      " |-- ACTIVE_URLS: string (nullable = true)\n",
      " |-- ACTIVE_SOURCES_INFO: string (nullable = true)\n",
      " |-- TITLE_RAW: string (nullable = true)\n",
      " |-- BODY: string (nullable = true)\n",
      " |-- MODELED_EXPIRED: string (nullable = true)\n",
      " |-- MODELED_DURATION: string (nullable = true)\n",
      " |-- COMPANY: string (nullable = true)\n",
      " |-- COMPANY_NAME: string (nullable = true)\n",
      " |-- COMPANY_RAW: string (nullable = true)\n",
      " |-- COMPANY_IS_STAFFING: string (nullable = true)\n",
      " |-- EDUCATION_LEVELS: string (nullable = true)\n",
      " |-- EDUCATION_LEVELS_NAME: string (nullable = true)\n",
      " |-- MIN_EDULEVELS: string (nullable = true)\n",
      " |-- MIN_EDULEVELS_NAME: string (nullable = true)\n",
      " |-- MAX_EDULEVELS: string (nullable = true)\n",
      " |-- MAX_EDULEVELS_NAME: string (nullable = true)\n",
      " |-- EMPLOYMENT_TYPE: string (nullable = true)\n",
      " |-- EMPLOYMENT_TYPE_NAME: string (nullable = true)\n",
      " |-- MIN_YEARS_EXPERIENCE: string (nullable = true)\n",
      " |-- MAX_YEARS_EXPERIENCE: string (nullable = true)\n",
      " |-- IS_INTERNSHIP: string (nullable = true)\n",
      " |-- SALARY: string (nullable = true)\n",
      " |-- REMOTE_TYPE: string (nullable = true)\n",
      " |-- REMOTE_TYPE_NAME: string (nullable = true)\n",
      " |-- ORIGINAL_PAY_PERIOD: string (nullable = true)\n",
      " |-- SALARY_TO: string (nullable = true)\n",
      " |-- SALARY_FROM: string (nullable = true)\n",
      " |-- LOCATION: string (nullable = true)\n",
      " |-- CITY: string (nullable = true)\n",
      " |-- CITY_NAME: string (nullable = true)\n",
      " |-- COUNTY: string (nullable = true)\n",
      " |-- COUNTY_NAME: string (nullable = true)\n",
      " |-- MSA: string (nullable = true)\n",
      " |-- MSA_NAME: string (nullable = true)\n",
      " |-- STATE: string (nullable = true)\n",
      " |-- STATE_NAME: string (nullable = true)\n",
      " |-- COUNTY_OUTGOING: string (nullable = true)\n",
      " |-- COUNTY_NAME_OUTGOING: string (nullable = true)\n",
      " |-- COUNTY_INCOMING: string (nullable = true)\n",
      " |-- COUNTY_NAME_INCOMING: string (nullable = true)\n",
      " |-- MSA_OUTGOING: string (nullable = true)\n",
      " |-- MSA_NAME_OUTGOING: string (nullable = true)\n",
      " |-- MSA_INCOMING: string (nullable = true)\n",
      " |-- MSA_NAME_INCOMING: string (nullable = true)\n",
      " |-- NAICS2: string (nullable = true)\n",
      " |-- NAICS2_NAME: string (nullable = true)\n",
      " |-- NAICS3: string (nullable = true)\n",
      " |-- NAICS3_NAME: string (nullable = true)\n",
      " |-- NAICS4: string (nullable = true)\n",
      " |-- NAICS4_NAME: string (nullable = true)\n",
      " |-- NAICS5: string (nullable = true)\n",
      " |-- NAICS5_NAME: string (nullable = true)\n",
      " |-- NAICS6: string (nullable = true)\n",
      " |-- NAICS6_NAME: string (nullable = true)\n",
      " |-- TITLE: string (nullable = true)\n",
      " |-- TITLE_NAME: string (nullable = true)\n",
      " |-- TITLE_CLEAN: string (nullable = true)\n",
      " |-- SKILLS: string (nullable = true)\n",
      " |-- SKILLS_NAME: string (nullable = true)\n",
      " |-- SPECIALIZED_SKILLS: string (nullable = true)\n",
      " |-- SPECIALIZED_SKILLS_NAME: string (nullable = true)\n",
      " |-- CERTIFICATIONS: string (nullable = true)\n",
      " |-- CERTIFICATIONS_NAME: string (nullable = true)\n",
      " |-- COMMON_SKILLS: string (nullable = true)\n",
      " |-- COMMON_SKILLS_NAME: string (nullable = true)\n",
      " |-- SOFTWARE_SKILLS: string (nullable = true)\n",
      " |-- SOFTWARE_SKILLS_NAME: string (nullable = true)\n",
      " |-- ONET: string (nullable = true)\n",
      " |-- ONET_NAME: string (nullable = true)\n",
      " |-- ONET_2019: string (nullable = true)\n",
      " |-- ONET_2019_NAME: string (nullable = true)\n",
      " |-- CIP6: string (nullable = true)\n",
      " |-- CIP6_NAME: string (nullable = true)\n",
      " |-- CIP4: string (nullable = true)\n",
      " |-- CIP4_NAME: string (nullable = true)\n",
      " |-- CIP2: string (nullable = true)\n",
      " |-- CIP2_NAME: string (nullable = true)\n",
      " |-- SOC_2021_2: string (nullable = true)\n",
      " |-- SOC_2021_2_NAME: string (nullable = true)\n",
      " |-- SOC_2021_3: string (nullable = true)\n",
      " |-- SOC_2021_3_NAME: string (nullable = true)\n",
      " |-- SOC_2021_4: string (nullable = true)\n",
      " |-- SOC_2021_4_NAME: string (nullable = true)\n",
      " |-- SOC_2021_5: string (nullable = true)\n",
      " |-- SOC_2021_5_NAME: string (nullable = true)\n",
      " |-- LOT_CAREER_AREA: string (nullable = true)\n",
      " |-- LOT_CAREER_AREA_NAME: string (nullable = true)\n",
      " |-- LOT_OCCUPATION: string (nullable = true)\n",
      " |-- LOT_OCCUPATION_NAME: string (nullable = true)\n",
      " |-- LOT_SPECIALIZED_OCCUPATION: string (nullable = true)\n",
      " |-- LOT_SPECIALIZED_OCCUPATION_NAME: string (nullable = true)\n",
      " |-- LOT_OCCUPATION_GROUP: string (nullable = true)\n",
      " |-- LOT_OCCUPATION_GROUP_NAME: string (nullable = true)\n",
      " |-- LOT_V6_SPECIALIZED_OCCUPATION: string (nullable = true)\n",
      " |-- LOT_V6_SPECIALIZED_OCCUPATION_NAME: string (nullable = true)\n",
      " |-- LOT_V6_OCCUPATION: string (nullable = true)\n",
      " |-- LOT_V6_OCCUPATION_NAME: string (nullable = true)\n",
      " |-- LOT_V6_OCCUPATION_GROUP: string (nullable = true)\n",
      " |-- LOT_V6_OCCUPATION_GROUP_NAME: string (nullable = true)\n",
      " |-- LOT_V6_CAREER_AREA: string (nullable = true)\n",
      " |-- LOT_V6_CAREER_AREA_NAME: string (nullable = true)\n",
      " |-- SOC_2: string (nullable = true)\n",
      " |-- SOC_2_NAME: string (nullable = true)\n",
      " |-- SOC_3: string (nullable = true)\n",
      " |-- SOC_3_NAME: string (nullable = true)\n",
      " |-- SOC_4: string (nullable = true)\n",
      " |-- SOC_4_NAME: string (nullable = true)\n",
      " |-- SOC_5: string (nullable = true)\n",
      " |-- SOC_5_NAME: string (nullable = true)\n",
      " |-- LIGHTCAST_SECTORS: string (nullable = true)\n",
      " |-- LIGHTCAST_SECTORS_NAME: string (nullable = true)\n",
      " |-- NAICS_2022_2: string (nullable = true)\n",
      " |-- NAICS_2022_2_NAME: string (nullable = true)\n",
      " |-- NAICS_2022_3: string (nullable = true)\n",
      " |-- NAICS_2022_3_NAME: string (nullable = true)\n",
      " |-- NAICS_2022_4: string (nullable = true)\n",
      " |-- NAICS_2022_4_NAME: string (nullable = true)\n",
      " |-- NAICS_2022_5: string (nullable = true)\n",
      " |-- NAICS_2022_5_NAME: string (nullable = true)\n",
      " |-- NAICS_2022_6: string (nullable = true)\n",
      " |-- NAICS_2022_6_NAME: string (nullable = true)\n",
      "\n"
     ]
    }
   ],
   "source": [
    "df.printSchema()\n"
   ]
  },
  {
   "cell_type": "code",
   "execution_count": 4,
   "metadata": {},
   "outputs": [
    {
     "name": "stderr",
     "output_type": "stream",
     "text": [
      "25/05/01 10:23:42 WARN SparkStringUtils: Truncated the string representation of a plan since it was too large. This behavior can be adjusted by setting 'spark.sql.debug.maxToStringFields'.\n",
      "ERROR:root:KeyboardInterrupt while sending command.                 (0 + 1) / 1]\n",
      "Traceback (most recent call last):\n",
      "  File \"/home/ubuntu/.local/lib/python3.12/site-packages/py4j/java_gateway.py\", line 1038, in send_command\n",
      "    response = connection.send_command(command)\n",
      "               ^^^^^^^^^^^^^^^^^^^^^^^^^^^^^^^^\n",
      "  File \"/home/ubuntu/.local/lib/python3.12/site-packages/py4j/clientserver.py\", line 511, in send_command\n",
      "    answer = smart_decode(self.stream.readline()[:-1])\n",
      "                          ^^^^^^^^^^^^^^^^^^^^^^\n",
      "  File \"/usr/lib/python3.12/socket.py\", line 707, in readinto\n",
      "    return self._sock.recv_into(b)\n",
      "           ^^^^^^^^^^^^^^^^^^^^^^^\n",
      "KeyboardInterrupt\n"
     ]
    },
    {
     "ename": "KeyboardInterrupt",
     "evalue": "",
     "output_type": "error",
     "traceback": [
      "\u001b[0;31m---------------------------------------------------------------------------\u001b[0m",
      "\u001b[0;31mKeyboardInterrupt\u001b[0m                         Traceback (most recent call last)",
      "Cell \u001b[0;32mIn[4], line 10\u001b[0m\n\u001b[1;32m      7\u001b[0m \u001b[38;5;66;03m# Step 4: Take 100 rows\u001b[39;00m\n\u001b[1;32m      8\u001b[0m sample_df \u001b[38;5;241m=\u001b[39m filtered_df\u001b[38;5;241m.\u001b[39mlimit(\u001b[38;5;241m100\u001b[39m)\n\u001b[0;32m---> 10\u001b[0m sample_pd \u001b[38;5;241m=\u001b[39m \u001b[43msample_df\u001b[49m\u001b[38;5;241;43m.\u001b[39;49m\u001b[43mtoPandas\u001b[49m\u001b[43m(\u001b[49m\u001b[43m)\u001b[49m\n\u001b[1;32m     11\u001b[0m sample_pd\u001b[38;5;241m.\u001b[39mto_csv(\u001b[38;5;124m\"\u001b[39m\u001b[38;5;124msample_job_data.csv\u001b[39m\u001b[38;5;124m\"\u001b[39m, index\u001b[38;5;241m=\u001b[39m\u001b[38;5;28;01mFalse\u001b[39;00m)\n",
      "File \u001b[0;32m~/.local/lib/python3.12/site-packages/pyspark/sql/pandas/conversion.py:202\u001b[0m, in \u001b[0;36mPandasConversionMixin.toPandas\u001b[0;34m(self)\u001b[0m\n\u001b[1;32m    199\u001b[0m             \u001b[38;5;28;01mraise\u001b[39;00m\n\u001b[1;32m    201\u001b[0m \u001b[38;5;66;03m# Below is toPandas without Arrow optimization.\u001b[39;00m\n\u001b[0;32m--> 202\u001b[0m rows \u001b[38;5;241m=\u001b[39m \u001b[38;5;28;43mself\u001b[39;49m\u001b[38;5;241;43m.\u001b[39;49m\u001b[43mcollect\u001b[49m\u001b[43m(\u001b[49m\u001b[43m)\u001b[49m\n\u001b[1;32m    203\u001b[0m \u001b[38;5;28;01mif\u001b[39;00m \u001b[38;5;28mlen\u001b[39m(rows) \u001b[38;5;241m>\u001b[39m \u001b[38;5;241m0\u001b[39m:\n\u001b[1;32m    204\u001b[0m     pdf \u001b[38;5;241m=\u001b[39m pd\u001b[38;5;241m.\u001b[39mDataFrame\u001b[38;5;241m.\u001b[39mfrom_records(\n\u001b[1;32m    205\u001b[0m         rows, index\u001b[38;5;241m=\u001b[39m\u001b[38;5;28mrange\u001b[39m(\u001b[38;5;28mlen\u001b[39m(rows)), columns\u001b[38;5;241m=\u001b[39m\u001b[38;5;28mself\u001b[39m\u001b[38;5;241m.\u001b[39mcolumns  \u001b[38;5;66;03m# type: ignore[arg-type]\u001b[39;00m\n\u001b[1;32m    206\u001b[0m     )\n",
      "File \u001b[0;32m~/.local/lib/python3.12/site-packages/pyspark/sql/dataframe.py:1263\u001b[0m, in \u001b[0;36mDataFrame.collect\u001b[0;34m(self)\u001b[0m\n\u001b[1;32m   1243\u001b[0m \u001b[38;5;250m\u001b[39m\u001b[38;5;124;03m\"\"\"Returns all the records as a list of :class:`Row`.\u001b[39;00m\n\u001b[1;32m   1244\u001b[0m \n\u001b[1;32m   1245\u001b[0m \u001b[38;5;124;03m.. versionadded:: 1.3.0\u001b[39;00m\n\u001b[0;32m   (...)\u001b[0m\n\u001b[1;32m   1260\u001b[0m \u001b[38;5;124;03m[Row(age=14, name='Tom'), Row(age=23, name='Alice'), Row(age=16, name='Bob')]\u001b[39;00m\n\u001b[1;32m   1261\u001b[0m \u001b[38;5;124;03m\"\"\"\u001b[39;00m\n\u001b[1;32m   1262\u001b[0m \u001b[38;5;28;01mwith\u001b[39;00m SCCallSiteSync(\u001b[38;5;28mself\u001b[39m\u001b[38;5;241m.\u001b[39m_sc):\n\u001b[0;32m-> 1263\u001b[0m     sock_info \u001b[38;5;241m=\u001b[39m \u001b[38;5;28;43mself\u001b[39;49m\u001b[38;5;241;43m.\u001b[39;49m\u001b[43m_jdf\u001b[49m\u001b[38;5;241;43m.\u001b[39;49m\u001b[43mcollectToPython\u001b[49m\u001b[43m(\u001b[49m\u001b[43m)\u001b[49m\n\u001b[1;32m   1264\u001b[0m \u001b[38;5;28;01mreturn\u001b[39;00m \u001b[38;5;28mlist\u001b[39m(_load_from_socket(sock_info, BatchedSerializer(CPickleSerializer())))\n",
      "File \u001b[0;32m~/.local/lib/python3.12/site-packages/py4j/java_gateway.py:1321\u001b[0m, in \u001b[0;36mJavaMember.__call__\u001b[0;34m(self, *args)\u001b[0m\n\u001b[1;32m   1314\u001b[0m args_command, temp_args \u001b[38;5;241m=\u001b[39m \u001b[38;5;28mself\u001b[39m\u001b[38;5;241m.\u001b[39m_build_args(\u001b[38;5;241m*\u001b[39margs)\n\u001b[1;32m   1316\u001b[0m command \u001b[38;5;241m=\u001b[39m proto\u001b[38;5;241m.\u001b[39mCALL_COMMAND_NAME \u001b[38;5;241m+\u001b[39m\\\n\u001b[1;32m   1317\u001b[0m     \u001b[38;5;28mself\u001b[39m\u001b[38;5;241m.\u001b[39mcommand_header \u001b[38;5;241m+\u001b[39m\\\n\u001b[1;32m   1318\u001b[0m     args_command \u001b[38;5;241m+\u001b[39m\\\n\u001b[1;32m   1319\u001b[0m     proto\u001b[38;5;241m.\u001b[39mEND_COMMAND_PART\n\u001b[0;32m-> 1321\u001b[0m answer \u001b[38;5;241m=\u001b[39m \u001b[38;5;28;43mself\u001b[39;49m\u001b[38;5;241;43m.\u001b[39;49m\u001b[43mgateway_client\u001b[49m\u001b[38;5;241;43m.\u001b[39;49m\u001b[43msend_command\u001b[49m\u001b[43m(\u001b[49m\u001b[43mcommand\u001b[49m\u001b[43m)\u001b[49m\n\u001b[1;32m   1322\u001b[0m return_value \u001b[38;5;241m=\u001b[39m get_return_value(\n\u001b[1;32m   1323\u001b[0m     answer, \u001b[38;5;28mself\u001b[39m\u001b[38;5;241m.\u001b[39mgateway_client, \u001b[38;5;28mself\u001b[39m\u001b[38;5;241m.\u001b[39mtarget_id, \u001b[38;5;28mself\u001b[39m\u001b[38;5;241m.\u001b[39mname)\n\u001b[1;32m   1325\u001b[0m \u001b[38;5;28;01mfor\u001b[39;00m temp_arg \u001b[38;5;129;01min\u001b[39;00m temp_args:\n",
      "File \u001b[0;32m~/.local/lib/python3.12/site-packages/py4j/java_gateway.py:1038\u001b[0m, in \u001b[0;36mGatewayClient.send_command\u001b[0;34m(self, command, retry, binary)\u001b[0m\n\u001b[1;32m   1036\u001b[0m connection \u001b[38;5;241m=\u001b[39m \u001b[38;5;28mself\u001b[39m\u001b[38;5;241m.\u001b[39m_get_connection()\n\u001b[1;32m   1037\u001b[0m \u001b[38;5;28;01mtry\u001b[39;00m:\n\u001b[0;32m-> 1038\u001b[0m     response \u001b[38;5;241m=\u001b[39m \u001b[43mconnection\u001b[49m\u001b[38;5;241;43m.\u001b[39;49m\u001b[43msend_command\u001b[49m\u001b[43m(\u001b[49m\u001b[43mcommand\u001b[49m\u001b[43m)\u001b[49m\n\u001b[1;32m   1039\u001b[0m     \u001b[38;5;28;01mif\u001b[39;00m binary:\n\u001b[1;32m   1040\u001b[0m         \u001b[38;5;28;01mreturn\u001b[39;00m response, \u001b[38;5;28mself\u001b[39m\u001b[38;5;241m.\u001b[39m_create_connection_guard(connection)\n",
      "File \u001b[0;32m~/.local/lib/python3.12/site-packages/py4j/clientserver.py:511\u001b[0m, in \u001b[0;36mClientServerConnection.send_command\u001b[0;34m(self, command)\u001b[0m\n\u001b[1;32m    509\u001b[0m \u001b[38;5;28;01mtry\u001b[39;00m:\n\u001b[1;32m    510\u001b[0m     \u001b[38;5;28;01mwhile\u001b[39;00m \u001b[38;5;28;01mTrue\u001b[39;00m:\n\u001b[0;32m--> 511\u001b[0m         answer \u001b[38;5;241m=\u001b[39m smart_decode(\u001b[38;5;28;43mself\u001b[39;49m\u001b[38;5;241;43m.\u001b[39;49m\u001b[43mstream\u001b[49m\u001b[38;5;241;43m.\u001b[39;49m\u001b[43mreadline\u001b[49m\u001b[43m(\u001b[49m\u001b[43m)\u001b[49m[:\u001b[38;5;241m-\u001b[39m\u001b[38;5;241m1\u001b[39m])\n\u001b[1;32m    512\u001b[0m         logger\u001b[38;5;241m.\u001b[39mdebug(\u001b[38;5;124m\"\u001b[39m\u001b[38;5;124mAnswer received: \u001b[39m\u001b[38;5;132;01m{0}\u001b[39;00m\u001b[38;5;124m\"\u001b[39m\u001b[38;5;241m.\u001b[39mformat(answer))\n\u001b[1;32m    513\u001b[0m         \u001b[38;5;66;03m# Happens when a the other end is dead. There might be an empty\u001b[39;00m\n\u001b[1;32m    514\u001b[0m         \u001b[38;5;66;03m# answer before the socket raises an error.\u001b[39;00m\n",
      "File \u001b[0;32m/usr/lib/python3.12/socket.py:707\u001b[0m, in \u001b[0;36mSocketIO.readinto\u001b[0;34m(self, b)\u001b[0m\n\u001b[1;32m    705\u001b[0m \u001b[38;5;28;01mwhile\u001b[39;00m \u001b[38;5;28;01mTrue\u001b[39;00m:\n\u001b[1;32m    706\u001b[0m     \u001b[38;5;28;01mtry\u001b[39;00m:\n\u001b[0;32m--> 707\u001b[0m         \u001b[38;5;28;01mreturn\u001b[39;00m \u001b[38;5;28;43mself\u001b[39;49m\u001b[38;5;241;43m.\u001b[39;49m\u001b[43m_sock\u001b[49m\u001b[38;5;241;43m.\u001b[39;49m\u001b[43mrecv_into\u001b[49m\u001b[43m(\u001b[49m\u001b[43mb\u001b[49m\u001b[43m)\u001b[49m\n\u001b[1;32m    708\u001b[0m     \u001b[38;5;28;01mexcept\u001b[39;00m timeout:\n\u001b[1;32m    709\u001b[0m         \u001b[38;5;28mself\u001b[39m\u001b[38;5;241m.\u001b[39m_timeout_occurred \u001b[38;5;241m=\u001b[39m \u001b[38;5;28;01mTrue\u001b[39;00m\n",
      "\u001b[0;31mKeyboardInterrupt\u001b[0m: "
     ]
    },
    {
     "name": "stderr",
     "output_type": "stream",
     "text": [
      "Exception in thread \"serve-DataFrame\" java.net.SocketTimeoutException: Accept timed out\n",
      "\tat java.base/java.net.PlainSocketImpl.socketAccept(Native Method)\n",
      "\tat java.base/java.net.AbstractPlainSocketImpl.accept(AbstractPlainSocketImpl.java:474)\n",
      "\tat java.base/java.net.ServerSocket.implAccept(ServerSocket.java:565)\n",
      "\tat java.base/java.net.ServerSocket.accept(ServerSocket.java:533)\n",
      "\tat org.apache.spark.security.SocketAuthServer$$anon$1.run(SocketAuthServer.scala:65)\n"
     ]
    }
   ],
   "source": [
    "# Step 3: Filter rows where LIGHTCAST_SECTORS_NAME is not null or empty\n",
    "filtered_df = df.filter(\n",
    "    (col(\"LIGHTCAST_SECTORS_NAME\").isNotNull()) &\n",
    "    (col(\"LIGHTCAST_SECTORS_NAME\") != \"\")\n",
    ")\n",
    "\n",
    "# Step 4: Take 100 rows\n",
    "sample_df = filtered_df.limit(100)\n",
    "\n",
    "sample_pd = sample_df.toPandas()\n",
    "sample_pd.to_csv(\"sample_job_data.csv\", index=False)"
   ]
  },
  {
   "cell_type": "code",
   "execution_count": null,
   "metadata": {},
   "outputs": [],
   "source": [
    "from pyspark.sql import SparkSession\n",
    "\n",
    "spark = SparkSession.builder \\\n",
    "    .appName(\"Job Market Analysis 2024\") \\\n",
    "    .getOrCreate()\n"
   ]
  },
  {
   "cell_type": "code",
   "execution_count": 2,
   "metadata": {},
   "outputs": [
    {
     "name": "stderr",
     "output_type": "stream",
     "text": [
      "                                                                                \r"
     ]
    },
    {
     "name": "stdout",
     "output_type": "stream",
     "text": [
      "+---+--------------------+----------------------+----------+--------------------+-------+--------------------+------------+---------------+-----+--------------------+-------------------+--------------------+--------+--------------------+----------------+--------------------+------------+--------------------+-------------------+--------------------+---------------------+--------------------+------------------+--------------------+------------------+--------------------+--------------------+--------------------+--------------------+---------------+-------+---------------+----------------+-------------------+---------+-----------+--------+----+---------+------+-----------+----+--------+-----+----------+---------------+--------------------+---------------+--------------------+------------+-----------------+------------+-----------------+------+-----------+------+-----------+------+-----------+------+-----------+------+-----------+-----+----------+-----------+------+-----------+------------------+-----------------------+--------------+-------------------+-------------+------------------+---------------+--------------------+----+---------+---------+--------------+----+---------+----+---------+----+---------+----------+---------------+----------+---------------+----------+---------------+----------+---------------+---------------+--------------------+--------------+-------------------+--------------------------+-------------------------------+--------------------+-------------------------+-----------------------------+----------------------------------+-----------------+----------------------+-----------------------+----------------------------+------------------+-----------------------+-----+----------+-----+----------+-----+----------+-----+----------+-----------------+----------------------+------------+-----------------+------------+-----------------+------------+-----------------+------------+-----------------+------------+-----------------+\n",
      "| ID|   LAST_UPDATED_DATE|LAST_UPDATED_TIMESTAMP|DUPLICATES|              POSTED|EXPIRED|            DURATION|SOURCE_TYPES|        SOURCES|  URL|         ACTIVE_URLS|ACTIVE_SOURCES_INFO|           TITLE_RAW|    BODY|     MODELED_EXPIRED|MODELED_DURATION|             COMPANY|COMPANY_NAME|         COMPANY_RAW|COMPANY_IS_STAFFING|    EDUCATION_LEVELS|EDUCATION_LEVELS_NAME|       MIN_EDULEVELS|MIN_EDULEVELS_NAME|       MAX_EDULEVELS|MAX_EDULEVELS_NAME|     EMPLOYMENT_TYPE|EMPLOYMENT_TYPE_NAME|MIN_YEARS_EXPERIENCE|MAX_YEARS_EXPERIENCE|  IS_INTERNSHIP| SALARY|    REMOTE_TYPE|REMOTE_TYPE_NAME|ORIGINAL_PAY_PERIOD|SALARY_TO|SALARY_FROM|LOCATION|CITY|CITY_NAME|COUNTY|COUNTY_NAME| MSA|MSA_NAME|STATE|STATE_NAME|COUNTY_OUTGOING|COUNTY_NAME_OUTGOING|COUNTY_INCOMING|COUNTY_NAME_INCOMING|MSA_OUTGOING|MSA_NAME_OUTGOING|MSA_INCOMING|MSA_NAME_INCOMING|NAICS2|NAICS2_NAME|NAICS3|NAICS3_NAME|NAICS4|NAICS4_NAME|NAICS5|NAICS5_NAME|NAICS6|NAICS6_NAME|TITLE|TITLE_NAME|TITLE_CLEAN|SKILLS|SKILLS_NAME|SPECIALIZED_SKILLS|SPECIALIZED_SKILLS_NAME|CERTIFICATIONS|CERTIFICATIONS_NAME|COMMON_SKILLS|COMMON_SKILLS_NAME|SOFTWARE_SKILLS|SOFTWARE_SKILLS_NAME|ONET|ONET_NAME|ONET_2019|ONET_2019_NAME|CIP6|CIP6_NAME|CIP4|CIP4_NAME|CIP2|CIP2_NAME|SOC_2021_2|SOC_2021_2_NAME|SOC_2021_3|SOC_2021_3_NAME|SOC_2021_4|SOC_2021_4_NAME|SOC_2021_5|SOC_2021_5_NAME|LOT_CAREER_AREA|LOT_CAREER_AREA_NAME|LOT_OCCUPATION|LOT_OCCUPATION_NAME|LOT_SPECIALIZED_OCCUPATION|LOT_SPECIALIZED_OCCUPATION_NAME|LOT_OCCUPATION_GROUP|LOT_OCCUPATION_GROUP_NAME|LOT_V6_SPECIALIZED_OCCUPATION|LOT_V6_SPECIALIZED_OCCUPATION_NAME|LOT_V6_OCCUPATION|LOT_V6_OCCUPATION_NAME|LOT_V6_OCCUPATION_GROUP|LOT_V6_OCCUPATION_GROUP_NAME|LOT_V6_CAREER_AREA|LOT_V6_CAREER_AREA_NAME|SOC_2|SOC_2_NAME|SOC_3|SOC_3_NAME|SOC_4|SOC_4_NAME|SOC_5|SOC_5_NAME|LIGHTCAST_SECTORS|LIGHTCAST_SECTORS_NAME|NAICS_2022_2|NAICS_2022_2_NAME|NAICS_2022_3|NAICS_2022_3_NAME|NAICS_2022_4|NAICS_2022_4_NAME|NAICS_2022_5|NAICS_2022_5_NAME|NAICS_2022_6|NAICS_2022_6_NAME|\n",
      "+---+--------------------+----------------------+----------+--------------------+-------+--------------------+------------+---------------+-----+--------------------+-------------------+--------------------+--------+--------------------+----------------+--------------------+------------+--------------------+-------------------+--------------------+---------------------+--------------------+------------------+--------------------+------------------+--------------------+--------------------+--------------------+--------------------+---------------+-------+---------------+----------------+-------------------+---------+-----------+--------+----+---------+------+-----------+----+--------+-----+----------+---------------+--------------------+---------------+--------------------+------------+-----------------+------------+-----------------+------+-----------+------+-----------+------+-----------+------+-----------+------+-----------+-----+----------+-----------+------+-----------+------------------+-----------------------+--------------+-------------------+-------------+------------------+---------------+--------------------+----+---------+---------+--------------+----+---------+----+---------+----+---------+----------+---------------+----------+---------------+----------+---------------+----------+---------------+---------------+--------------------+--------------+-------------------+--------------------------+-------------------------------+--------------------+-------------------------+-----------------------------+----------------------------------+-----------------+----------------------+-----------------------+----------------------------+------------------+-----------------------+-----+----------+-----+----------+-----+----------+-----+----------+-----------------+----------------------+------------+-----------------+------------+-----------------+------------+-----------------+------------+-----------------+------------+-----------------+\n",
      "| ]\"|                   2|     Bachelor's degree|      NULL|                NULL|      1|Full-time (> 32 h...|           2|              2|FALSE|                NULL|                  0|              [None]|    NULL|                NULL|            NULL|                   {|        NULL|                NULL|               NULL|                NULL|                 NULL|                NULL|              NULL|                NULL|              NULL|                NULL|                NULL|                NULL|                NULL|           NULL|   NULL|           NULL|            NULL|               NULL|     NULL|       NULL|    NULL|NULL|     NULL|  NULL|       NULL|NULL|    NULL| NULL|      NULL|           NULL|                NULL|           NULL|                NULL|        NULL|             NULL|        NULL|             NULL|  NULL|       NULL|  NULL|       NULL|  NULL|       NULL|  NULL|       NULL|  NULL|       NULL| NULL|      NULL|       NULL|  NULL|       NULL|              NULL|                   NULL|          NULL|               NULL|         NULL|              NULL|           NULL|                NULL|NULL|     NULL|     NULL|          NULL|NULL|     NULL|NULL|     NULL|NULL|     NULL|      NULL|           NULL|      NULL|           NULL|      NULL|           NULL|      NULL|           NULL|           NULL|                NULL|          NULL|               NULL|                      NULL|                           NULL|                NULL|                     NULL|                         NULL|                              NULL|             NULL|                  NULL|                   NULL|                        NULL|              NULL|                   NULL| NULL|      NULL| NULL|      NULL| NULL|      NULL| NULL|      NULL|             NULL|                  NULL|        NULL|             NULL|        NULL|             NULL|        NULL|             NULL|        NULL|             NULL|        NULL|             NULL|\n",
      "| }\"|RWwgRG9yYWRvLCBBUg==|         El Dorado, AR|      5139|           Union, AR|  20980|       El Dorado, AR|           5|       Arkansas| 5139|           Union, AR|               5139|           Union, AR|   20980|       El Dorado, AR|           20980|       El Dorado, AR|          44|        Retail Trade|                441|Motor Vehicle and...|                 4413|Automotive Parts,...|             44133|Automotive Parts ...|            441330|Automotive Parts ...|  ET29C073C03D1F86B4| Enterprise Analysts|enterprise analys...|              [|   NULL|           NULL|            NULL|               NULL|     NULL|       NULL|    NULL|NULL|     NULL|  NULL|       NULL|NULL|    NULL| NULL|      NULL|           NULL|                NULL|           NULL|                NULL|        NULL|             NULL|        NULL|             NULL|  NULL|       NULL|  NULL|       NULL|  NULL|       NULL|  NULL|       NULL|  NULL|       NULL| NULL|      NULL|       NULL|  NULL|       NULL|              NULL|                   NULL|          NULL|               NULL|         NULL|              NULL|           NULL|                NULL|NULL|     NULL|     NULL|          NULL|NULL|     NULL|NULL|     NULL|NULL|     NULL|      NULL|           NULL|      NULL|           NULL|      NULL|           NULL|      NULL|           NULL|           NULL|                NULL|          NULL|               NULL|                      NULL|                           NULL|                NULL|                     NULL|                         NULL|                              NULL|             NULL|                  NULL|                   NULL|                        NULL|              NULL|                   NULL| NULL|      NULL| NULL|      NULL| NULL|      NULL| NULL|      NULL|             NULL|                  NULL|        NULL|             NULL|        NULL|             NULL|        NULL|             NULL|        NULL|             NULL|        NULL|             NULL|\n",
      "| ]\"|             15-0000|  Computer and Math...|   15-2000|Mathematical Scie...|15-2050|     Data Scientists|     15-2051|Data Scientists|   23|Information Techn...|             231010|Business Intellig...|23101011|General ERP Analy...|            2310|Business Intellig...|    23101011|General ERP Analy...|             231010|Business Intellig...|                 2310|Business Intellig...|                23|Information Techn...|           15-0000|Computer and Math...|             15-2000|Mathematical Scie...|             15-2050|Data Scientists|15-2051|Data Scientists|               [|               NULL|     NULL|       NULL|    NULL|NULL|     NULL|  NULL|       NULL|NULL|    NULL| NULL|      NULL|           NULL|                NULL|           NULL|                NULL|        NULL|             NULL|        NULL|             NULL|  NULL|       NULL|  NULL|       NULL|  NULL|       NULL|  NULL|       NULL|  NULL|       NULL| NULL|      NULL|       NULL|  NULL|       NULL|              NULL|                   NULL|          NULL|               NULL|         NULL|              NULL|           NULL|                NULL|NULL|     NULL|     NULL|          NULL|NULL|     NULL|NULL|     NULL|NULL|     NULL|      NULL|           NULL|      NULL|           NULL|      NULL|           NULL|      NULL|           NULL|           NULL|                NULL|          NULL|               NULL|                      NULL|                           NULL|                NULL|                     NULL|                         NULL|                              NULL|             NULL|                  NULL|                   NULL|                        NULL|              NULL|                   NULL| NULL|      NULL| NULL|      NULL| NULL|      NULL| NULL|      NULL|             NULL|                  NULL|        NULL|             NULL|        NULL|             NULL|        NULL|             NULL|        NULL|             NULL|        NULL|             NULL|\n",
      "| ]\"|                  99|   No Education Listed|      NULL|                NULL|      1|Full-time (> 32 h...|           3|              3|FALSE|                NULL|                  1|              Remote|    NULL|                NULL|            NULL|                   {|        NULL|                NULL|               NULL|                NULL|                 NULL|                NULL|              NULL|                NULL|              NULL|                NULL|                NULL|                NULL|                NULL|           NULL|   NULL|           NULL|            NULL|               NULL|     NULL|       NULL|    NULL|NULL|     NULL|  NULL|       NULL|NULL|    NULL| NULL|      NULL|           NULL|                NULL|           NULL|                NULL|        NULL|             NULL|        NULL|             NULL|  NULL|       NULL|  NULL|       NULL|  NULL|       NULL|  NULL|       NULL|  NULL|       NULL| NULL|      NULL|       NULL|  NULL|       NULL|              NULL|                   NULL|          NULL|               NULL|         NULL|              NULL|           NULL|                NULL|NULL|     NULL|     NULL|          NULL|NULL|     NULL|NULL|     NULL|NULL|     NULL|      NULL|           NULL|      NULL|           NULL|      NULL|           NULL|      NULL|           NULL|           NULL|                NULL|          NULL|               NULL|                      NULL|                           NULL|                NULL|                     NULL|                         NULL|                              NULL|             NULL|                  NULL|                   NULL|                        NULL|              NULL|                   NULL| NULL|      NULL| NULL|      NULL| NULL|      NULL| NULL|      NULL|             NULL|                  NULL|        NULL|             NULL|        NULL|             NULL|        NULL|             NULL|        NULL|             NULL|        NULL|             NULL|\n",
      "| }\"|    QXVndXN0YSwgTUU=|           Augusta, ME|     23011|        Kennebec, ME|  12300|Augusta-Watervill...|          23|          Maine|23011|        Kennebec, ME|              23011|        Kennebec, ME|   12300|Augusta-Watervill...|           12300|Augusta-Watervill...|          56|Administrative an...|                561|Administrative an...|                 5613| Employment Services|             56132|Temporary Help Se...|            561320|Temporary Help Se...|  ET21DDA63780A7DC09|  Oracle Consultants|oracle consultant...|              [|   NULL|           NULL|            NULL|               NULL|     NULL|       NULL|    NULL|NULL|     NULL|  NULL|       NULL|NULL|    NULL| NULL|      NULL|           NULL|                NULL|           NULL|                NULL|        NULL|             NULL|        NULL|             NULL|  NULL|       NULL|  NULL|       NULL|  NULL|       NULL|  NULL|       NULL|  NULL|       NULL| NULL|      NULL|       NULL|  NULL|       NULL|              NULL|                   NULL|          NULL|               NULL|         NULL|              NULL|           NULL|                NULL|NULL|     NULL|     NULL|          NULL|NULL|     NULL|NULL|     NULL|NULL|     NULL|      NULL|           NULL|      NULL|           NULL|      NULL|           NULL|      NULL|           NULL|           NULL|                NULL|          NULL|               NULL|                      NULL|                           NULL|                NULL|                     NULL|                         NULL|                              NULL|             NULL|                  NULL|                   NULL|                        NULL|              NULL|                   NULL| NULL|      NULL| NULL|      NULL| NULL|      NULL| NULL|      NULL|             NULL|                  NULL|        NULL|             NULL|        NULL|             NULL|        NULL|             NULL|        NULL|             NULL|        NULL|             NULL|\n",
      "+---+--------------------+----------------------+----------+--------------------+-------+--------------------+------------+---------------+-----+--------------------+-------------------+--------------------+--------+--------------------+----------------+--------------------+------------+--------------------+-------------------+--------------------+---------------------+--------------------+------------------+--------------------+------------------+--------------------+--------------------+--------------------+--------------------+---------------+-------+---------------+----------------+-------------------+---------+-----------+--------+----+---------+------+-----------+----+--------+-----+----------+---------------+--------------------+---------------+--------------------+------------+-----------------+------------+-----------------+------+-----------+------+-----------+------+-----------+------+-----------+------+-----------+-----+----------+-----------+------+-----------+------------------+-----------------------+--------------+-------------------+-------------+------------------+---------------+--------------------+----+---------+---------+--------------+----+---------+----+---------+----+---------+----------+---------------+----------+---------------+----------+---------------+----------+---------------+---------------+--------------------+--------------+-------------------+--------------------------+-------------------------------+--------------------+-------------------------+-----------------------------+----------------------------------+-----------------+----------------------+-----------------------+----------------------------+------------------+-----------------------+-----+----------+-----+----------+-----+----------+-----+----------+-----------------+----------------------+------------+-----------------+------------+-----------------+------------+-----------------+------------+-----------------+------------+-----------------+\n",
      "only showing top 5 rows\n",
      "\n",
      "root\n",
      " |-- ID: string (nullable = true)\n",
      " |-- LAST_UPDATED_DATE: string (nullable = true)\n",
      " |-- LAST_UPDATED_TIMESTAMP: string (nullable = true)\n",
      " |-- DUPLICATES: string (nullable = true)\n",
      " |-- POSTED: string (nullable = true)\n",
      " |-- EXPIRED: string (nullable = true)\n",
      " |-- DURATION: string (nullable = true)\n",
      " |-- SOURCE_TYPES: string (nullable = true)\n",
      " |-- SOURCES: string (nullable = true)\n",
      " |-- URL: string (nullable = true)\n",
      " |-- ACTIVE_URLS: string (nullable = true)\n",
      " |-- ACTIVE_SOURCES_INFO: string (nullable = true)\n",
      " |-- TITLE_RAW: string (nullable = true)\n",
      " |-- BODY: string (nullable = true)\n",
      " |-- MODELED_EXPIRED: string (nullable = true)\n",
      " |-- MODELED_DURATION: string (nullable = true)\n",
      " |-- COMPANY: string (nullable = true)\n",
      " |-- COMPANY_NAME: string (nullable = true)\n",
      " |-- COMPANY_RAW: string (nullable = true)\n",
      " |-- COMPANY_IS_STAFFING: string (nullable = true)\n",
      " |-- EDUCATION_LEVELS: string (nullable = true)\n",
      " |-- EDUCATION_LEVELS_NAME: string (nullable = true)\n",
      " |-- MIN_EDULEVELS: string (nullable = true)\n",
      " |-- MIN_EDULEVELS_NAME: string (nullable = true)\n",
      " |-- MAX_EDULEVELS: string (nullable = true)\n",
      " |-- MAX_EDULEVELS_NAME: string (nullable = true)\n",
      " |-- EMPLOYMENT_TYPE: string (nullable = true)\n",
      " |-- EMPLOYMENT_TYPE_NAME: string (nullable = true)\n",
      " |-- MIN_YEARS_EXPERIENCE: string (nullable = true)\n",
      " |-- MAX_YEARS_EXPERIENCE: string (nullable = true)\n",
      " |-- IS_INTERNSHIP: string (nullable = true)\n",
      " |-- SALARY: string (nullable = true)\n",
      " |-- REMOTE_TYPE: string (nullable = true)\n",
      " |-- REMOTE_TYPE_NAME: string (nullable = true)\n",
      " |-- ORIGINAL_PAY_PERIOD: string (nullable = true)\n",
      " |-- SALARY_TO: string (nullable = true)\n",
      " |-- SALARY_FROM: string (nullable = true)\n",
      " |-- LOCATION: string (nullable = true)\n",
      " |-- CITY: string (nullable = true)\n",
      " |-- CITY_NAME: string (nullable = true)\n",
      " |-- COUNTY: string (nullable = true)\n",
      " |-- COUNTY_NAME: string (nullable = true)\n",
      " |-- MSA: string (nullable = true)\n",
      " |-- MSA_NAME: string (nullable = true)\n",
      " |-- STATE: string (nullable = true)\n",
      " |-- STATE_NAME: string (nullable = true)\n",
      " |-- COUNTY_OUTGOING: string (nullable = true)\n",
      " |-- COUNTY_NAME_OUTGOING: string (nullable = true)\n",
      " |-- COUNTY_INCOMING: string (nullable = true)\n",
      " |-- COUNTY_NAME_INCOMING: string (nullable = true)\n",
      " |-- MSA_OUTGOING: string (nullable = true)\n",
      " |-- MSA_NAME_OUTGOING: string (nullable = true)\n",
      " |-- MSA_INCOMING: string (nullable = true)\n",
      " |-- MSA_NAME_INCOMING: string (nullable = true)\n",
      " |-- NAICS2: string (nullable = true)\n",
      " |-- NAICS2_NAME: string (nullable = true)\n",
      " |-- NAICS3: string (nullable = true)\n",
      " |-- NAICS3_NAME: string (nullable = true)\n",
      " |-- NAICS4: string (nullable = true)\n",
      " |-- NAICS4_NAME: string (nullable = true)\n",
      " |-- NAICS5: string (nullable = true)\n",
      " |-- NAICS5_NAME: string (nullable = true)\n",
      " |-- NAICS6: string (nullable = true)\n",
      " |-- NAICS6_NAME: string (nullable = true)\n",
      " |-- TITLE: integer (nullable = true)\n",
      " |-- TITLE_NAME: string (nullable = true)\n",
      " |-- TITLE_CLEAN: string (nullable = true)\n",
      " |-- SKILLS: string (nullable = true)\n",
      " |-- SKILLS_NAME: string (nullable = true)\n",
      " |-- SPECIALIZED_SKILLS: string (nullable = true)\n",
      " |-- SPECIALIZED_SKILLS_NAME: integer (nullable = true)\n",
      " |-- CERTIFICATIONS: string (nullable = true)\n",
      " |-- CERTIFICATIONS_NAME: integer (nullable = true)\n",
      " |-- COMMON_SKILLS: string (nullable = true)\n",
      " |-- COMMON_SKILLS_NAME: string (nullable = true)\n",
      " |-- SOFTWARE_SKILLS: string (nullable = true)\n",
      " |-- SOFTWARE_SKILLS_NAME: string (nullable = true)\n",
      " |-- ONET: string (nullable = true)\n",
      " |-- ONET_NAME: string (nullable = true)\n",
      " |-- ONET_2019: string (nullable = true)\n",
      " |-- ONET_2019_NAME: string (nullable = true)\n",
      " |-- CIP6: string (nullable = true)\n",
      " |-- CIP6_NAME: string (nullable = true)\n",
      " |-- CIP4: string (nullable = true)\n",
      " |-- CIP4_NAME: integer (nullable = true)\n",
      " |-- CIP2: string (nullable = true)\n",
      " |-- CIP2_NAME: integer (nullable = true)\n",
      " |-- SOC_2021_2: string (nullable = true)\n",
      " |-- SOC_2021_2_NAME: integer (nullable = true)\n",
      " |-- SOC_2021_3: string (nullable = true)\n",
      " |-- SOC_2021_3_NAME: integer (nullable = true)\n",
      " |-- SOC_2021_4: string (nullable = true)\n",
      " |-- SOC_2021_4_NAME: integer (nullable = true)\n",
      " |-- SOC_2021_5: string (nullable = true)\n",
      " |-- SOC_2021_5_NAME: string (nullable = true)\n",
      " |-- LOT_CAREER_AREA: string (nullable = true)\n",
      " |-- LOT_CAREER_AREA_NAME: string (nullable = true)\n",
      " |-- LOT_OCCUPATION: string (nullable = true)\n",
      " |-- LOT_OCCUPATION_NAME: string (nullable = true)\n",
      " |-- LOT_SPECIALIZED_OCCUPATION: string (nullable = true)\n",
      " |-- LOT_SPECIALIZED_OCCUPATION_NAME: string (nullable = true)\n",
      " |-- LOT_OCCUPATION_GROUP: string (nullable = true)\n",
      " |-- LOT_OCCUPATION_GROUP_NAME: string (nullable = true)\n",
      " |-- LOT_V6_SPECIALIZED_OCCUPATION: string (nullable = true)\n",
      " |-- LOT_V6_SPECIALIZED_OCCUPATION_NAME: string (nullable = true)\n",
      " |-- LOT_V6_OCCUPATION: string (nullable = true)\n",
      " |-- LOT_V6_OCCUPATION_NAME: string (nullable = true)\n",
      " |-- LOT_V6_OCCUPATION_GROUP: string (nullable = true)\n",
      " |-- LOT_V6_OCCUPATION_GROUP_NAME: string (nullable = true)\n",
      " |-- LOT_V6_CAREER_AREA: string (nullable = true)\n",
      " |-- LOT_V6_CAREER_AREA_NAME: string (nullable = true)\n",
      " |-- SOC_2: string (nullable = true)\n",
      " |-- SOC_2_NAME: string (nullable = true)\n",
      " |-- SOC_3: string (nullable = true)\n",
      " |-- SOC_3_NAME: string (nullable = true)\n",
      " |-- SOC_4: string (nullable = true)\n",
      " |-- SOC_4_NAME: string (nullable = true)\n",
      " |-- SOC_5: string (nullable = true)\n",
      " |-- SOC_5_NAME: string (nullable = true)\n",
      " |-- LIGHTCAST_SECTORS: string (nullable = true)\n",
      " |-- LIGHTCAST_SECTORS_NAME: string (nullable = true)\n",
      " |-- NAICS_2022_2: string (nullable = true)\n",
      " |-- NAICS_2022_2_NAME: string (nullable = true)\n",
      " |-- NAICS_2022_3: string (nullable = true)\n",
      " |-- NAICS_2022_3_NAME: string (nullable = true)\n",
      " |-- NAICS_2022_4: string (nullable = true)\n",
      " |-- NAICS_2022_4_NAME: string (nullable = true)\n",
      " |-- NAICS_2022_5: string (nullable = true)\n",
      " |-- NAICS_2022_5_NAME: string (nullable = true)\n",
      " |-- NAICS_2022_6: string (nullable = true)\n",
      " |-- NAICS_2022_6_NAME: string (nullable = true)\n",
      "\n"
     ]
    }
   ],
   "source": [
    "\n",
    "df = spark.read.csv(\"/home/ubuntu/github-classroom/ad688-employability-sp25A2-group2/sample_job_data.csv\", header=True, inferSchema=True)\n",
    "\n",
    "df.show(5)\n",
    "\n",
    "df.printSchema()\n"
   ]
  },
  {
   "cell_type": "code",
   "execution_count": 3,
   "metadata": {},
   "outputs": [
    {
     "name": "stdout",
     "output_type": "stream",
     "text": [
      "Rows: 100, Columns: 131\n"
     ]
    },
    {
     "name": "stderr",
     "output_type": "stream",
     "text": [
      "[Stage 10:>                                                         (0 + 1) / 1]\r"
     ]
    },
    {
     "name": "stdout",
     "output_type": "stream",
     "text": [
      "+---+-----------------+----------------------+----------+------+-------+--------+------------+-------+---+-----------+-------------------+---------+----+---------------+----------------+-------+------------+-----------+-------------------+----------------+---------------------+-------------+------------------+-------------+------------------+---------------+--------------------+--------------------+--------------------+-------------+------+-----------+----------------+-------------------+---------+-----------+--------+----+---------+------+-----------+---+--------+-----+----------+---------------+--------------------+---------------+--------------------+------------+-----------------+------------+-----------------+------+-----------+------+-----------+------+-----------+------+-----------+------+-----------+-----+----------+-----------+------+-----------+------------------+-----------------------+--------------+-------------------+-------------+------------------+---------------+--------------------+----+---------+---------+--------------+----+---------+----+---------+----+---------+----------+---------------+----------+---------------+----------+---------------+----------+---------------+---------------+--------------------+--------------+-------------------+--------------------------+-------------------------------+--------------------+-------------------------+-----------------------------+----------------------------------+-----------------+----------------------+-----------------------+----------------------------+------------------+-----------------------+-----+----------+-----+----------+-----+----------+-----+----------+-----------------+----------------------+------------+-----------------+------------+-----------------+------------+-----------------+------------+-----------------+------------+-----------------+\n",
      "| ID|LAST_UPDATED_DATE|LAST_UPDATED_TIMESTAMP|DUPLICATES|POSTED|EXPIRED|DURATION|SOURCE_TYPES|SOURCES|URL|ACTIVE_URLS|ACTIVE_SOURCES_INFO|TITLE_RAW|BODY|MODELED_EXPIRED|MODELED_DURATION|COMPANY|COMPANY_NAME|COMPANY_RAW|COMPANY_IS_STAFFING|EDUCATION_LEVELS|EDUCATION_LEVELS_NAME|MIN_EDULEVELS|MIN_EDULEVELS_NAME|MAX_EDULEVELS|MAX_EDULEVELS_NAME|EMPLOYMENT_TYPE|EMPLOYMENT_TYPE_NAME|MIN_YEARS_EXPERIENCE|MAX_YEARS_EXPERIENCE|IS_INTERNSHIP|SALARY|REMOTE_TYPE|REMOTE_TYPE_NAME|ORIGINAL_PAY_PERIOD|SALARY_TO|SALARY_FROM|LOCATION|CITY|CITY_NAME|COUNTY|COUNTY_NAME|MSA|MSA_NAME|STATE|STATE_NAME|COUNTY_OUTGOING|COUNTY_NAME_OUTGOING|COUNTY_INCOMING|COUNTY_NAME_INCOMING|MSA_OUTGOING|MSA_NAME_OUTGOING|MSA_INCOMING|MSA_NAME_INCOMING|NAICS2|NAICS2_NAME|NAICS3|NAICS3_NAME|NAICS4|NAICS4_NAME|NAICS5|NAICS5_NAME|NAICS6|NAICS6_NAME|TITLE|TITLE_NAME|TITLE_CLEAN|SKILLS|SKILLS_NAME|SPECIALIZED_SKILLS|SPECIALIZED_SKILLS_NAME|CERTIFICATIONS|CERTIFICATIONS_NAME|COMMON_SKILLS|COMMON_SKILLS_NAME|SOFTWARE_SKILLS|SOFTWARE_SKILLS_NAME|ONET|ONET_NAME|ONET_2019|ONET_2019_NAME|CIP6|CIP6_NAME|CIP4|CIP4_NAME|CIP2|CIP2_NAME|SOC_2021_2|SOC_2021_2_NAME|SOC_2021_3|SOC_2021_3_NAME|SOC_2021_4|SOC_2021_4_NAME|SOC_2021_5|SOC_2021_5_NAME|LOT_CAREER_AREA|LOT_CAREER_AREA_NAME|LOT_OCCUPATION|LOT_OCCUPATION_NAME|LOT_SPECIALIZED_OCCUPATION|LOT_SPECIALIZED_OCCUPATION_NAME|LOT_OCCUPATION_GROUP|LOT_OCCUPATION_GROUP_NAME|LOT_V6_SPECIALIZED_OCCUPATION|LOT_V6_SPECIALIZED_OCCUPATION_NAME|LOT_V6_OCCUPATION|LOT_V6_OCCUPATION_NAME|LOT_V6_OCCUPATION_GROUP|LOT_V6_OCCUPATION_GROUP_NAME|LOT_V6_CAREER_AREA|LOT_V6_CAREER_AREA_NAME|SOC_2|SOC_2_NAME|SOC_3|SOC_3_NAME|SOC_4|SOC_4_NAME|SOC_5|SOC_5_NAME|LIGHTCAST_SECTORS|LIGHTCAST_SECTORS_NAME|NAICS_2022_2|NAICS_2022_2_NAME|NAICS_2022_3|NAICS_2022_3_NAME|NAICS_2022_4|NAICS_2022_4_NAME|NAICS_2022_5|NAICS_2022_5_NAME|NAICS_2022_6|NAICS_2022_6_NAME|\n",
      "+---+-----------------+----------------------+----------+------+-------+--------+------------+-------+---+-----------+-------------------+---------+----+---------------+----------------+-------+------------+-----------+-------------------+----------------+---------------------+-------------+------------------+-------------+------------------+---------------+--------------------+--------------------+--------------------+-------------+------+-----------+----------------+-------------------+---------+-----------+--------+----+---------+------+-----------+---+--------+-----+----------+---------------+--------------------+---------------+--------------------+------------+-----------------+------------+-----------------+------+-----------+------+-----------+------+-----------+------+-----------+------+-----------+-----+----------+-----------+------+-----------+------------------+-----------------------+--------------+-------------------+-------------+------------------+---------------+--------------------+----+---------+---------+--------------+----+---------+----+---------+----+---------+----------+---------------+----------+---------------+----------+---------------+----------+---------------+---------------+--------------------+--------------+-------------------+--------------------------+-------------------------------+--------------------+-------------------------+-----------------------------+----------------------------------+-----------------+----------------------+-----------------------+----------------------------+------------------+-----------------------+-----+----------+-----+----------+-----+----------+-----+----------+-----------------+----------------------+------------+-----------------+------------+-----------------+------------+-----------------+------------+-----------------+------------+-----------------+\n",
      "|  0|                0|                     4|        22|    22|      0|       0|          12|     23|  0|         18|                  0|        0|  16|             16|              16|      0|          32|         33|                 33|              36|                   36|           36|                36|           38|                40|             40|                  42|                  42|                  42|           42|    66|         66|              72|                 77|       71|         71|      71|  71|       71|    71|         71| 71|      79|   86|        86|             86|                  85|             85|                  84|          84|               84|          84|               84|    85|         93|    93|         95|    95|         96|    96|         96|    96|         96|   96|        96|         96|    96|         96|                98|                     98|            98|                 98|           98|                98|             98|                  98|  98|       98|       98|            98|  98|      100| 100|       98|  98|       98|        98|             98|        98|             98|        98|             98|        98|            100|            100|                 100|           100|                100|                       100|                            100|                 100|                      100|                          100|                               100|              100|                   100|                    100|                         100|               100|                    100|  100|       100|  100|       100|  100|       100|  100|       100|              100|                   100|         100|              100|         100|              100|         100|              100|         100|              100|         100|              100|\n",
      "+---+-----------------+----------------------+----------+------+-------+--------+------------+-------+---+-----------+-------------------+---------+----+---------------+----------------+-------+------------+-----------+-------------------+----------------+---------------------+-------------+------------------+-------------+------------------+---------------+--------------------+--------------------+--------------------+-------------+------+-----------+----------------+-------------------+---------+-----------+--------+----+---------+------+-----------+---+--------+-----+----------+---------------+--------------------+---------------+--------------------+------------+-----------------+------------+-----------------+------+-----------+------+-----------+------+-----------+------+-----------+------+-----------+-----+----------+-----------+------+-----------+------------------+-----------------------+--------------+-------------------+-------------+------------------+---------------+--------------------+----+---------+---------+--------------+----+---------+----+---------+----+---------+----------+---------------+----------+---------------+----------+---------------+----------+---------------+---------------+--------------------+--------------+-------------------+--------------------------+-------------------------------+--------------------+-------------------------+-----------------------------+----------------------------------+-----------------+----------------------+-----------------------+----------------------------+------------------+-----------------------+-----+----------+-----+----------+-----+----------+-----+----------+-----------------+----------------------+------------+-----------------+------------+-----------------+------------+-----------------+------------+-----------------+------------+-----------------+\n",
      "\n"
     ]
    },
    {
     "name": "stderr",
     "output_type": "stream",
     "text": [
      "                                                                                \r"
     ]
    }
   ],
   "source": [
    "\n",
    "print(f\"Rows: {df.count()}, Columns: {len(df.columns)}\")\n",
    "\n",
    "from pyspark.sql.functions import col, isnan, when, count\n",
    "\n",
    "df.select([count(when(col(c).isNull() | isnan(c), c)).alias(c) for c in df.columns]).show()\n"
   ]
  },
  {
   "cell_type": "code",
   "execution_count": 4,
   "metadata": {},
   "outputs": [],
   "source": [
    "df = df.dropna()\n"
   ]
  },
  {
   "cell_type": "code",
   "execution_count": 5,
   "metadata": {},
   "outputs": [
    {
     "name": "stdout",
     "output_type": "stream",
     "text": [
      "+---+-----------------+----------------------+----------+------+-------+--------+------------+-------+---+-----------+-------------------+---------+----+---------------+----------------+-------+------------+-----------+-------------------+----------------+---------------------+-------------+------------------+-------------+------------------+---------------+--------------------+--------------------+--------------------+-------------+------+-----------+----------------+-------------------+---------+-----------+--------+----+---------+------+-----------+---+--------+-----+----------+---------------+--------------------+---------------+--------------------+------------+-----------------+------------+-----------------+------+-----------+------+-----------+------+-----------+------+-----------+------+-----------+-----+----------+-----------+------+-----------+------------------+-----------------------+--------------+-------------------+-------------+------------------+---------------+--------------------+----+---------+---------+--------------+----+---------+----+---------+----+---------+----------+---------------+----------+---------------+----------+---------------+----------+---------------+---------------+--------------------+--------------+-------------------+--------------------------+-------------------------------+--------------------+-------------------------+-----------------------------+----------------------------------+-----------------+----------------------+-----------------------+----------------------------+------------------+-----------------------+-----+----------+-----+----------+-----+----------+-----+----------+-----------------+----------------------+------------+-----------------+------------+-----------------+------------+-----------------+------------+-----------------+------------+-----------------+\n",
      "|ID |LAST_UPDATED_DATE|LAST_UPDATED_TIMESTAMP|DUPLICATES|POSTED|EXPIRED|DURATION|SOURCE_TYPES|SOURCES|URL|ACTIVE_URLS|ACTIVE_SOURCES_INFO|TITLE_RAW|BODY|MODELED_EXPIRED|MODELED_DURATION|COMPANY|COMPANY_NAME|COMPANY_RAW|COMPANY_IS_STAFFING|EDUCATION_LEVELS|EDUCATION_LEVELS_NAME|MIN_EDULEVELS|MIN_EDULEVELS_NAME|MAX_EDULEVELS|MAX_EDULEVELS_NAME|EMPLOYMENT_TYPE|EMPLOYMENT_TYPE_NAME|MIN_YEARS_EXPERIENCE|MAX_YEARS_EXPERIENCE|IS_INTERNSHIP|SALARY|REMOTE_TYPE|REMOTE_TYPE_NAME|ORIGINAL_PAY_PERIOD|SALARY_TO|SALARY_FROM|LOCATION|CITY|CITY_NAME|COUNTY|COUNTY_NAME|MSA|MSA_NAME|STATE|STATE_NAME|COUNTY_OUTGOING|COUNTY_NAME_OUTGOING|COUNTY_INCOMING|COUNTY_NAME_INCOMING|MSA_OUTGOING|MSA_NAME_OUTGOING|MSA_INCOMING|MSA_NAME_INCOMING|NAICS2|NAICS2_NAME|NAICS3|NAICS3_NAME|NAICS4|NAICS4_NAME|NAICS5|NAICS5_NAME|NAICS6|NAICS6_NAME|TITLE|TITLE_NAME|TITLE_CLEAN|SKILLS|SKILLS_NAME|SPECIALIZED_SKILLS|SPECIALIZED_SKILLS_NAME|CERTIFICATIONS|CERTIFICATIONS_NAME|COMMON_SKILLS|COMMON_SKILLS_NAME|SOFTWARE_SKILLS|SOFTWARE_SKILLS_NAME|ONET|ONET_NAME|ONET_2019|ONET_2019_NAME|CIP6|CIP6_NAME|CIP4|CIP4_NAME|CIP2|CIP2_NAME|SOC_2021_2|SOC_2021_2_NAME|SOC_2021_3|SOC_2021_3_NAME|SOC_2021_4|SOC_2021_4_NAME|SOC_2021_5|SOC_2021_5_NAME|LOT_CAREER_AREA|LOT_CAREER_AREA_NAME|LOT_OCCUPATION|LOT_OCCUPATION_NAME|LOT_SPECIALIZED_OCCUPATION|LOT_SPECIALIZED_OCCUPATION_NAME|LOT_OCCUPATION_GROUP|LOT_OCCUPATION_GROUP_NAME|LOT_V6_SPECIALIZED_OCCUPATION|LOT_V6_SPECIALIZED_OCCUPATION_NAME|LOT_V6_OCCUPATION|LOT_V6_OCCUPATION_NAME|LOT_V6_OCCUPATION_GROUP|LOT_V6_OCCUPATION_GROUP_NAME|LOT_V6_CAREER_AREA|LOT_V6_CAREER_AREA_NAME|SOC_2|SOC_2_NAME|SOC_3|SOC_3_NAME|SOC_4|SOC_4_NAME|SOC_5|SOC_5_NAME|LIGHTCAST_SECTORS|LIGHTCAST_SECTORS_NAME|NAICS_2022_2|NAICS_2022_2_NAME|NAICS_2022_3|NAICS_2022_3_NAME|NAICS_2022_4|NAICS_2022_4_NAME|NAICS_2022_5|NAICS_2022_5_NAME|NAICS_2022_6|NAICS_2022_6_NAME|\n",
      "+---+-----------------+----------------------+----------+------+-------+--------+------------+-------+---+-----------+-------------------+---------+----+---------------+----------------+-------+------------+-----------+-------------------+----------------+---------------------+-------------+------------------+-------------+------------------+---------------+--------------------+--------------------+--------------------+-------------+------+-----------+----------------+-------------------+---------+-----------+--------+----+---------+------+-----------+---+--------+-----+----------+---------------+--------------------+---------------+--------------------+------------+-----------------+------------+-----------------+------+-----------+------+-----------+------+-----------+------+-----------+------+-----------+-----+----------+-----------+------+-----------+------------------+-----------------------+--------------+-------------------+-------------+------------------+---------------+--------------------+----+---------+---------+--------------+----+---------+----+---------+----+---------+----------+---------------+----------+---------------+----------+---------------+----------+---------------+---------------+--------------------+--------------+-------------------+--------------------------+-------------------------------+--------------------+-------------------------+-----------------------------+----------------------------------+-----------------+----------------------+-----------------------+----------------------------+------------------+-----------------------+-----+----------+-----+----------+-----+----------+-----+----------+-----------------+----------------------+------------+-----------------+------------+-----------------+------------+-----------------+------------+-----------------+------------+-----------------+\n",
      "+---+-----------------+----------------------+----------+------+-------+--------+------------+-------+---+-----------+-------------------+---------+----+---------------+----------------+-------+------------+-----------+-------------------+----------------+---------------------+-------------+------------------+-------------+------------------+---------------+--------------------+--------------------+--------------------+-------------+------+-----------+----------------+-------------------+---------+-----------+--------+----+---------+------+-----------+---+--------+-----+----------+---------------+--------------------+---------------+--------------------+------------+-----------------+------------+-----------------+------+-----------+------+-----------+------+-----------+------+-----------+------+-----------+-----+----------+-----------+------+-----------+------------------+-----------------------+--------------+-------------------+-------------+------------------+---------------+--------------------+----+---------+---------+--------------+----+---------+----+---------+----+---------+----------+---------------+----------+---------------+----------+---------------+----------+---------------+---------------+--------------------+--------------+-------------------+--------------------------+-------------------------------+--------------------+-------------------------+-----------------------------+----------------------------------+-----------------+----------------------+-----------------------+----------------------------+------------------+-----------------------+-----+----------+-----+----------+-----+----------+-----+----------+-----------------+----------------------+------------+-----------------+------------+-----------------+------------+-----------------+------------+-----------------+------------+-----------------+\n",
      "\n"
     ]
    }
   ],
   "source": [
    "df.show(truncate=False)\n"
   ]
  },
  {
   "cell_type": "code",
   "execution_count": 7,
   "metadata": {},
   "outputs": [
    {
     "ename": "IllegalArgumentException",
     "evalue": "IsAI does not exist. Available: ID, LAST_UPDATED_DATE, LAST_UPDATED_TIMESTAMP, DUPLICATES, POSTED, EXPIRED, DURATION, SOURCE_TYPES, SOURCES, URL, ACTIVE_URLS, ACTIVE_SOURCES_INFO, TITLE_RAW, BODY, MODELED_EXPIRED, MODELED_DURATION, COMPANY, COMPANY_NAME, COMPANY_RAW, COMPANY_IS_STAFFING, EDUCATION_LEVELS, EDUCATION_LEVELS_NAME, MIN_EDULEVELS, MIN_EDULEVELS_NAME, MAX_EDULEVELS, MAX_EDULEVELS_NAME, EMPLOYMENT_TYPE, EMPLOYMENT_TYPE_NAME, MIN_YEARS_EXPERIENCE, MAX_YEARS_EXPERIENCE, IS_INTERNSHIP, SALARY, REMOTE_TYPE, REMOTE_TYPE_NAME, ORIGINAL_PAY_PERIOD, SALARY_TO, SALARY_FROM, LOCATION, CITY, CITY_NAME, COUNTY, COUNTY_NAME, MSA, MSA_NAME, STATE, STATE_NAME, COUNTY_OUTGOING, COUNTY_NAME_OUTGOING, COUNTY_INCOMING, COUNTY_NAME_INCOMING, MSA_OUTGOING, MSA_NAME_OUTGOING, MSA_INCOMING, MSA_NAME_INCOMING, NAICS2, NAICS2_NAME, NAICS3, NAICS3_NAME, NAICS4, NAICS4_NAME, NAICS5, NAICS5_NAME, NAICS6, NAICS6_NAME, TITLE, TITLE_NAME, TITLE_CLEAN, SKILLS, SKILLS_NAME, SPECIALIZED_SKILLS, SPECIALIZED_SKILLS_NAME, CERTIFICATIONS, CERTIFICATIONS_NAME, COMMON_SKILLS, COMMON_SKILLS_NAME, SOFTWARE_SKILLS, SOFTWARE_SKILLS_NAME, ONET, ONET_NAME, ONET_2019, ONET_2019_NAME, CIP6, CIP6_NAME, CIP4, CIP4_NAME, CIP2, CIP2_NAME, SOC_2021_2, SOC_2021_2_NAME, SOC_2021_3, SOC_2021_3_NAME, SOC_2021_4, SOC_2021_4_NAME, SOC_2021_5, SOC_2021_5_NAME, LOT_CAREER_AREA, LOT_CAREER_AREA_NAME, LOT_OCCUPATION, LOT_OCCUPATION_NAME, LOT_SPECIALIZED_OCCUPATION, LOT_SPECIALIZED_OCCUPATION_NAME, LOT_OCCUPATION_GROUP, LOT_OCCUPATION_GROUP_NAME, LOT_V6_SPECIALIZED_OCCUPATION, LOT_V6_SPECIALIZED_OCCUPATION_NAME, LOT_V6_OCCUPATION, LOT_V6_OCCUPATION_NAME, LOT_V6_OCCUPATION_GROUP, LOT_V6_OCCUPATION_GROUP_NAME, LOT_V6_CAREER_AREA, LOT_V6_CAREER_AREA_NAME, SOC_2, SOC_2_NAME, SOC_3, SOC_3_NAME, SOC_4, SOC_4_NAME, SOC_5, SOC_5_NAME, LIGHTCAST_SECTORS, LIGHTCAST_SECTORS_NAME, NAICS_2022_2, NAICS_2022_2_NAME, NAICS_2022_3, NAICS_2022_3_NAME, NAICS_2022_4, NAICS_2022_4_NAME, NAICS_2022_5, NAICS_2022_5_NAME, NAICS_2022_6, NAICS_2022_6_NAME",
     "output_type": "error",
     "traceback": [
      "\u001b[0;31m---------------------------------------------------------------------------\u001b[0m",
      "\u001b[0;31mIllegalArgumentException\u001b[0m                  Traceback (most recent call last)",
      "Cell \u001b[0;32mIn[7], line 9\u001b[0m\n\u001b[1;32m      3\u001b[0m \u001b[38;5;66;03m# Ensure correct column names (case-sensitive)\u001b[39;00m\n\u001b[1;32m      4\u001b[0m assembler \u001b[38;5;241m=\u001b[39m VectorAssembler(\n\u001b[1;32m      5\u001b[0m     inputCols\u001b[38;5;241m=\u001b[39m[\u001b[38;5;124m\"\u001b[39m\u001b[38;5;124mSALARY\u001b[39m\u001b[38;5;124m\"\u001b[39m, \u001b[38;5;124m\"\u001b[39m\u001b[38;5;124mIsAI\u001b[39m\u001b[38;5;124m\"\u001b[39m],  \u001b[38;5;66;03m# 'SALARY' not 'Salary'\u001b[39;00m\n\u001b[1;32m      6\u001b[0m     outputCol\u001b[38;5;241m=\u001b[39m\u001b[38;5;124m\"\u001b[39m\u001b[38;5;124mfeatures\u001b[39m\u001b[38;5;124m\"\u001b[39m\n\u001b[1;32m      7\u001b[0m )\n\u001b[0;32m----> 9\u001b[0m assembled_data \u001b[38;5;241m=\u001b[39m \u001b[43massembler\u001b[49m\u001b[38;5;241;43m.\u001b[39;49m\u001b[43mtransform\u001b[49m\u001b[43m(\u001b[49m\u001b[43mdf\u001b[49m\u001b[43m)\u001b[49m\n\u001b[1;32m     10\u001b[0m assembled_data\u001b[38;5;241m.\u001b[39mselect(\u001b[38;5;124m\"\u001b[39m\u001b[38;5;124mTITLE\u001b[39m\u001b[38;5;124m\"\u001b[39m, \u001b[38;5;124m\"\u001b[39m\u001b[38;5;124mfeatures\u001b[39m\u001b[38;5;124m\"\u001b[39m)\u001b[38;5;241m.\u001b[39mshow(truncate\u001b[38;5;241m=\u001b[39m\u001b[38;5;28;01mFalse\u001b[39;00m)\n",
      "File \u001b[0;32m~/.local/lib/python3.12/site-packages/pyspark/ml/base.py:262\u001b[0m, in \u001b[0;36mTransformer.transform\u001b[0;34m(self, dataset, params)\u001b[0m\n\u001b[1;32m    260\u001b[0m         \u001b[38;5;28;01mreturn\u001b[39;00m \u001b[38;5;28mself\u001b[39m\u001b[38;5;241m.\u001b[39mcopy(params)\u001b[38;5;241m.\u001b[39m_transform(dataset)\n\u001b[1;32m    261\u001b[0m     \u001b[38;5;28;01melse\u001b[39;00m:\n\u001b[0;32m--> 262\u001b[0m         \u001b[38;5;28;01mreturn\u001b[39;00m \u001b[38;5;28;43mself\u001b[39;49m\u001b[38;5;241;43m.\u001b[39;49m\u001b[43m_transform\u001b[49m\u001b[43m(\u001b[49m\u001b[43mdataset\u001b[49m\u001b[43m)\u001b[49m\n\u001b[1;32m    263\u001b[0m \u001b[38;5;28;01melse\u001b[39;00m:\n\u001b[1;32m    264\u001b[0m     \u001b[38;5;28;01mraise\u001b[39;00m \u001b[38;5;167;01mTypeError\u001b[39;00m(\u001b[38;5;124m\"\u001b[39m\u001b[38;5;124mParams must be a param map but got \u001b[39m\u001b[38;5;132;01m%s\u001b[39;00m\u001b[38;5;124m.\u001b[39m\u001b[38;5;124m\"\u001b[39m \u001b[38;5;241m%\u001b[39m \u001b[38;5;28mtype\u001b[39m(params))\n",
      "File \u001b[0;32m~/.local/lib/python3.12/site-packages/pyspark/ml/wrapper.py:398\u001b[0m, in \u001b[0;36mJavaTransformer._transform\u001b[0;34m(self, dataset)\u001b[0m\n\u001b[1;32m    395\u001b[0m \u001b[38;5;28;01massert\u001b[39;00m \u001b[38;5;28mself\u001b[39m\u001b[38;5;241m.\u001b[39m_java_obj \u001b[38;5;129;01mis\u001b[39;00m \u001b[38;5;129;01mnot\u001b[39;00m \u001b[38;5;28;01mNone\u001b[39;00m\n\u001b[1;32m    397\u001b[0m \u001b[38;5;28mself\u001b[39m\u001b[38;5;241m.\u001b[39m_transfer_params_to_java()\n\u001b[0;32m--> 398\u001b[0m \u001b[38;5;28;01mreturn\u001b[39;00m DataFrame(\u001b[38;5;28;43mself\u001b[39;49m\u001b[38;5;241;43m.\u001b[39;49m\u001b[43m_java_obj\u001b[49m\u001b[38;5;241;43m.\u001b[39;49m\u001b[43mtransform\u001b[49m\u001b[43m(\u001b[49m\u001b[43mdataset\u001b[49m\u001b[38;5;241;43m.\u001b[39;49m\u001b[43m_jdf\u001b[49m\u001b[43m)\u001b[49m, dataset\u001b[38;5;241m.\u001b[39msparkSession)\n",
      "File \u001b[0;32m~/.local/lib/python3.12/site-packages/py4j/java_gateway.py:1322\u001b[0m, in \u001b[0;36mJavaMember.__call__\u001b[0;34m(self, *args)\u001b[0m\n\u001b[1;32m   1316\u001b[0m command \u001b[38;5;241m=\u001b[39m proto\u001b[38;5;241m.\u001b[39mCALL_COMMAND_NAME \u001b[38;5;241m+\u001b[39m\\\n\u001b[1;32m   1317\u001b[0m     \u001b[38;5;28mself\u001b[39m\u001b[38;5;241m.\u001b[39mcommand_header \u001b[38;5;241m+\u001b[39m\\\n\u001b[1;32m   1318\u001b[0m     args_command \u001b[38;5;241m+\u001b[39m\\\n\u001b[1;32m   1319\u001b[0m     proto\u001b[38;5;241m.\u001b[39mEND_COMMAND_PART\n\u001b[1;32m   1321\u001b[0m answer \u001b[38;5;241m=\u001b[39m \u001b[38;5;28mself\u001b[39m\u001b[38;5;241m.\u001b[39mgateway_client\u001b[38;5;241m.\u001b[39msend_command(command)\n\u001b[0;32m-> 1322\u001b[0m return_value \u001b[38;5;241m=\u001b[39m \u001b[43mget_return_value\u001b[49m\u001b[43m(\u001b[49m\n\u001b[1;32m   1323\u001b[0m \u001b[43m    \u001b[49m\u001b[43manswer\u001b[49m\u001b[43m,\u001b[49m\u001b[43m \u001b[49m\u001b[38;5;28;43mself\u001b[39;49m\u001b[38;5;241;43m.\u001b[39;49m\u001b[43mgateway_client\u001b[49m\u001b[43m,\u001b[49m\u001b[43m \u001b[49m\u001b[38;5;28;43mself\u001b[39;49m\u001b[38;5;241;43m.\u001b[39;49m\u001b[43mtarget_id\u001b[49m\u001b[43m,\u001b[49m\u001b[43m \u001b[49m\u001b[38;5;28;43mself\u001b[39;49m\u001b[38;5;241;43m.\u001b[39;49m\u001b[43mname\u001b[49m\u001b[43m)\u001b[49m\n\u001b[1;32m   1325\u001b[0m \u001b[38;5;28;01mfor\u001b[39;00m temp_arg \u001b[38;5;129;01min\u001b[39;00m temp_args:\n\u001b[1;32m   1326\u001b[0m     \u001b[38;5;28;01mif\u001b[39;00m \u001b[38;5;28mhasattr\u001b[39m(temp_arg, \u001b[38;5;124m\"\u001b[39m\u001b[38;5;124m_detach\u001b[39m\u001b[38;5;124m\"\u001b[39m):\n",
      "File \u001b[0;32m~/.local/lib/python3.12/site-packages/pyspark/errors/exceptions/captured.py:185\u001b[0m, in \u001b[0;36mcapture_sql_exception.<locals>.deco\u001b[0;34m(*a, **kw)\u001b[0m\n\u001b[1;32m    181\u001b[0m converted \u001b[38;5;241m=\u001b[39m convert_exception(e\u001b[38;5;241m.\u001b[39mjava_exception)\n\u001b[1;32m    182\u001b[0m \u001b[38;5;28;01mif\u001b[39;00m \u001b[38;5;129;01mnot\u001b[39;00m \u001b[38;5;28misinstance\u001b[39m(converted, UnknownException):\n\u001b[1;32m    183\u001b[0m     \u001b[38;5;66;03m# Hide where the exception came from that shows a non-Pythonic\u001b[39;00m\n\u001b[1;32m    184\u001b[0m     \u001b[38;5;66;03m# JVM exception message.\u001b[39;00m\n\u001b[0;32m--> 185\u001b[0m     \u001b[38;5;28;01mraise\u001b[39;00m converted \u001b[38;5;28;01mfrom\u001b[39;00m \u001b[38;5;28;01mNone\u001b[39;00m\n\u001b[1;32m    186\u001b[0m \u001b[38;5;28;01melse\u001b[39;00m:\n\u001b[1;32m    187\u001b[0m     \u001b[38;5;28;01mraise\u001b[39;00m\n",
      "\u001b[0;31mIllegalArgumentException\u001b[0m: IsAI does not exist. Available: ID, LAST_UPDATED_DATE, LAST_UPDATED_TIMESTAMP, DUPLICATES, POSTED, EXPIRED, DURATION, SOURCE_TYPES, SOURCES, URL, ACTIVE_URLS, ACTIVE_SOURCES_INFO, TITLE_RAW, BODY, MODELED_EXPIRED, MODELED_DURATION, COMPANY, COMPANY_NAME, COMPANY_RAW, COMPANY_IS_STAFFING, EDUCATION_LEVELS, EDUCATION_LEVELS_NAME, MIN_EDULEVELS, MIN_EDULEVELS_NAME, MAX_EDULEVELS, MAX_EDULEVELS_NAME, EMPLOYMENT_TYPE, EMPLOYMENT_TYPE_NAME, MIN_YEARS_EXPERIENCE, MAX_YEARS_EXPERIENCE, IS_INTERNSHIP, SALARY, REMOTE_TYPE, REMOTE_TYPE_NAME, ORIGINAL_PAY_PERIOD, SALARY_TO, SALARY_FROM, LOCATION, CITY, CITY_NAME, COUNTY, COUNTY_NAME, MSA, MSA_NAME, STATE, STATE_NAME, COUNTY_OUTGOING, COUNTY_NAME_OUTGOING, COUNTY_INCOMING, COUNTY_NAME_INCOMING, MSA_OUTGOING, MSA_NAME_OUTGOING, MSA_INCOMING, MSA_NAME_INCOMING, NAICS2, NAICS2_NAME, NAICS3, NAICS3_NAME, NAICS4, NAICS4_NAME, NAICS5, NAICS5_NAME, NAICS6, NAICS6_NAME, TITLE, TITLE_NAME, TITLE_CLEAN, SKILLS, SKILLS_NAME, SPECIALIZED_SKILLS, SPECIALIZED_SKILLS_NAME, CERTIFICATIONS, CERTIFICATIONS_NAME, COMMON_SKILLS, COMMON_SKILLS_NAME, SOFTWARE_SKILLS, SOFTWARE_SKILLS_NAME, ONET, ONET_NAME, ONET_2019, ONET_2019_NAME, CIP6, CIP6_NAME, CIP4, CIP4_NAME, CIP2, CIP2_NAME, SOC_2021_2, SOC_2021_2_NAME, SOC_2021_3, SOC_2021_3_NAME, SOC_2021_4, SOC_2021_4_NAME, SOC_2021_5, SOC_2021_5_NAME, LOT_CAREER_AREA, LOT_CAREER_AREA_NAME, LOT_OCCUPATION, LOT_OCCUPATION_NAME, LOT_SPECIALIZED_OCCUPATION, LOT_SPECIALIZED_OCCUPATION_NAME, LOT_OCCUPATION_GROUP, LOT_OCCUPATION_GROUP_NAME, LOT_V6_SPECIALIZED_OCCUPATION, LOT_V6_SPECIALIZED_OCCUPATION_NAME, LOT_V6_OCCUPATION, LOT_V6_OCCUPATION_NAME, LOT_V6_OCCUPATION_GROUP, LOT_V6_OCCUPATION_GROUP_NAME, LOT_V6_CAREER_AREA, LOT_V6_CAREER_AREA_NAME, SOC_2, SOC_2_NAME, SOC_3, SOC_3_NAME, SOC_4, SOC_4_NAME, SOC_5, SOC_5_NAME, LIGHTCAST_SECTORS, LIGHTCAST_SECTORS_NAME, NAICS_2022_2, NAICS_2022_2_NAME, NAICS_2022_3, NAICS_2022_3_NAME, NAICS_2022_4, NAICS_2022_4_NAME, NAICS_2022_5, NAICS_2022_5_NAME, NAICS_2022_6, NAICS_2022_6_NAME"
     ]
    }
   ],
   "source": [
    "from pyspark.ml.feature import VectorAssembler\n",
    "\n",
    "# Ensure correct column names (case-sensitive)\n",
    "assembler = VectorAssembler(\n",
    "    inputCols=[\"SALARY\", \"IsAI\"],  # 'SALARY' not 'Salary'\n",
    "    outputCol=\"features\"\n",
    ")\n",
    "\n",
    "assembled_data = assembler.transform(df)\n",
    "assembled_data.select(\"TITLE\", \"features\").show(truncate=False)\n"
   ]
  },
  {
   "cell_type": "code",
   "execution_count": null,
   "metadata": {},
   "outputs": [],
   "source": [
    "from pyspark.ml.clustering import KMeans\n",
    "\n",
    "kmeans = KMeans(k=2, seed=1, featuresCol=\"features\", predictionCol=\"cluster\")\n",
    "model = kmeans.fit(assembled_data)\n",
    "\n",
    "clustered_data = model.transform(assembled_data)\n",
    "clustered_data.select(\"JobTitle\", \"Salary\", \"IsAI\", \"cluster\").show(truncate=False)\n"
   ]
  },
  {
   "cell_type": "code",
   "execution_count": null,
   "metadata": {},
   "outputs": [],
   "source": [
    "from pyspark.ml.evaluation import ClusteringEvaluator\n",
    "\n",
    "clustered_data_for_eval = clustered_data.withColumnRenamed(\"cluster\", \"prediction\")\n",
    "\n",
    "evaluator = ClusteringEvaluator(\n",
    "    featuresCol=\"features\",\n",
    "    predictionCol=\"prediction\",\n",
    "    metricName=\"silhouette\",\n",
    "    distanceMeasure=\"squaredEuclidean\"\n",
    ")\n",
    "\n",
    "silhouette = evaluator.evaluate(clustered_data_for_eval)\n",
    "print(f\"Silhouette Score: {silhouette:.3f}\")\n"
   ]
  },
  {
   "cell_type": "code",
   "execution_count": null,
   "metadata": {},
   "outputs": [],
   "source": [
    "from pyspark.ml.feature import StringIndexer, OneHotEncoder, VectorAssembler\n",
    "from pyspark.ml import Pipeline\n",
    "\n",
    "indexer = StringIndexer(inputCol=\"Industry\", outputCol=\"IndustryIndex\")\n",
    "encoder = OneHotEncoder(inputCol=\"IndustryIndex\", outputCol=\"IndustryVec\")\n",
    "assembler = VectorAssembler(inputCols=[\"IsAI\", \"IndustryVec\"], outputCol=\"features\")\n",
    "\n",
    "pipeline = Pipeline(stages=[indexer, encoder, assembler])\n",
    "pipeline_model = pipeline.fit(df)\n",
    "transformed_data = pipeline_model.transform(df)\n"
   ]
  },
  {
   "cell_type": "code",
   "execution_count": null,
   "metadata": {},
   "outputs": [],
   "source": [
    "train_data, test_data = transformed_data.randomSplit([0.8, 0.2], seed=42)\n"
   ]
  },
  {
   "cell_type": "code",
   "execution_count": null,
   "metadata": {},
   "outputs": [],
   "source": [
    "from pyspark.ml.regression import LinearRegression\n",
    "\n",
    "lr = LinearRegression(featuresCol=\"features\", labelCol=\"Salary\")\n",
    "lr_model = lr.fit(train_data)\n"
   ]
  },
  {
   "cell_type": "code",
   "execution_count": null,
   "metadata": {},
   "outputs": [],
   "source": [
    "!pip install scikit-learn seaborn matplotlib\n"
   ]
  },
  {
   "cell_type": "code",
   "execution_count": null,
   "metadata": {},
   "outputs": [],
   "source": [
    "from sklearn.metrics import confusion_matrix\n",
    "import seaborn as sns\n",
    "import matplotlib.pyplot as plt\n"
   ]
  },
  {
   "cell_type": "code",
   "execution_count": null,
   "metadata": {},
   "outputs": [],
   "source": [
    "from sklearn.metrics import confusion_matrix\n",
    "import seaborn as sns\n",
    "import matplotlib.pyplot as plt\n",
    "\n",
    "y_true = predictions.select(\"IsAI\").toPandas()\n",
    "y_pred = predictions.select(\"prediction\").toPandas()\n",
    "\n",
    "cm = confusion_matrix(y_true, y_pred)\n",
    "\n",
    "sns.heatmap(cm, annot=True, fmt=\"d\", cmap=\"Blues\")\n",
    "plt.xlabel(\"Predicted\")\n",
    "plt.ylabel(\"Actual\")\n",
    "plt.title(\"Confusion Matrix\")\n",
    "plt.show()\n"
   ]
  },
  {
   "cell_type": "code",
   "execution_count": null,
   "metadata": {},
   "outputs": [],
   "source": [
    "predictions = lr_model.transform(test_data)\n",
    "\n",
    "from pyspark.ml.evaluation import RegressionEvaluator\n",
    "\n",
    "rmse = RegressionEvaluator(labelCol=\"Salary\", predictionCol=\"prediction\", metricName=\"rmse\").evaluate(predictions)\n",
    "r2 = RegressionEvaluator(labelCol=\"Salary\", predictionCol=\"prediction\", metricName=\"r2\").evaluate(predictions)\n",
    "\n",
    "print(f\"RMSE: {rmse:.2f}\")\n",
    "print(f\"R2: {r2:.2f}\")\n"
   ]
  },
  {
   "cell_type": "code",
   "execution_count": null,
   "metadata": {},
   "outputs": [],
   "source": [
    "lr_model.coefficients\n"
   ]
  },
  {
   "cell_type": "code",
   "execution_count": null,
   "metadata": {},
   "outputs": [],
   "source": [
    "industries = pipeline_model.stages[0].labels\n",
    "\n",
    "print(f\"Intercept: {lr_model.intercept}\")\n",
    "print(\"Coefficients:\")\n",
    "print(f\"IsAI: {lr_model.coefficients[0]}\")\n",
    "for i, name in enumerate(industries):\n",
    "    print(f\"Industry={name}: {lr_model.coefficients[i+1]}\")\n"
   ]
  },
  {
   "cell_type": "code",
   "execution_count": null,
   "metadata": {},
   "outputs": [],
   "source": [
    "industries = pipeline_model.stages[0].labels\n",
    "\n",
    "print(f\"Intercept: {lr_model.intercept}\")\n",
    "print(\"Coefficients:\")\n",
    "print(f\"IsAI: {lr_model.coefficients[0]}\")\n",
    "for i in range(len(lr_model.coefficients) - 1):\n",
    "    print(f\"Industry={industries[i+1]}: {lr_model.coefficients[i+1]}\")\n"
   ]
  },
  {
   "cell_type": "code",
   "execution_count": null,
   "metadata": {},
   "outputs": [],
   "source": [
    "indexer = StringIndexer(inputCol=\"Industry\", outputCol=\"IndustryIndex\")\n",
    "encoder = OneHotEncoder(inputCol=\"IndustryIndex\", outputCol=\"IndustryVec\")\n",
    "assembler = VectorAssembler(inputCols=[\"Salary\", \"IndustryVec\"], outputCol=\"features\")\n",
    "\n",
    "pipeline = Pipeline(stages=[indexer, encoder, assembler])\n",
    "pipeline_model = pipeline.fit(df)\n",
    "transformed_data = pipeline_model.transform(df)\n"
   ]
  },
  {
   "cell_type": "code",
   "execution_count": null,
   "metadata": {},
   "outputs": [],
   "source": [
    "train_data, test_data = transformed_data.randomSplit([0.8, 0.2], seed=42)\n"
   ]
  },
  {
   "cell_type": "code",
   "execution_count": null,
   "metadata": {},
   "outputs": [],
   "source": [
    "from pyspark.ml.classification import LogisticRegression\n",
    "\n",
    "lr = LogisticRegression(featuresCol=\"features\", labelCol=\"IsAI\")\n",
    "lr_model = lr.fit(train_data)\n"
   ]
  },
  {
   "cell_type": "code",
   "execution_count": null,
   "metadata": {},
   "outputs": [],
   "source": [
    "predictions = lr_model.transform(test_data)\n",
    "\n",
    "from pyspark.ml.evaluation import MulticlassClassificationEvaluator\n",
    "\n",
    "accuracy = MulticlassClassificationEvaluator(labelCol=\"IsAI\", predictionCol=\"prediction\", metricName=\"accuracy\").evaluate(predictions)\n",
    "f1 = MulticlassClassificationEvaluator(labelCol=\"IsAI\", predictionCol=\"prediction\", metricName=\"f1\").evaluate(predictions)\n",
    "\n",
    "print(f\"Accuracy: {accuracy:.2f}\")\n",
    "print(f\"F1 Score: {f1:.2f}\")\n"
   ]
  },
  {
   "cell_type": "code",
   "execution_count": null,
   "metadata": {},
   "outputs": [],
   "source": [
    "!pip install plotly\n"
   ]
  },
  {
   "cell_type": "code",
   "execution_count": null,
   "metadata": {},
   "outputs": [],
   "source": [
    "import plotly.express as px\n",
    "import pandas as pd\n",
    "\n",
    "pandas_df = df.select(\"Industry\", \"Salary\").toPandas()\n",
    "\n",
    "fig = px.box(pandas_df, x=\"Industry\", y=\"Salary\", template=\"plotly_white\", title=\"Salary Distribution by Industry\")\n",
    "fig.show()\n"
   ]
  },
  {
   "cell_type": "code",
   "execution_count": null,
   "metadata": {},
   "outputs": [],
   "source": [
    "pandas_df = df.select(\"IsAI\").toPandas()\n",
    "pandas_df[\"IsAI\"] = pandas_df[\"IsAI\"].map({1: \"AI\", 0: \"Non-AI\"})\n",
    "\n",
    "fig = px.histogram(pandas_df, x=\"IsAI\", template=\"plotly_white\", title=\"AI vs Non-AI Job Count\")\n",
    "fig.show()\n"
   ]
  },
  {
   "cell_type": "code",
   "execution_count": null,
   "metadata": {},
   "outputs": [],
   "source": [
    "clustered_df = clustered_data.select(\"Salary\", \"IsAI\", \"cluster\").toPandas()\n",
    "\n",
    "fig = px.scatter(clustered_df, x=\"Salary\", y=\"IsAI\", color=\"cluster\", template=\"plotly_white\", title=\"KMeans Job Clustering\")\n",
    "fig.show()\n"
   ]
  },
  {
   "cell_type": "markdown",
   "metadata": {},
   "source": [
    "## Job Seeker Insights and Recommendations\n",
    "\n",
    "Based on our analysis of job data from 2024:\n",
    "\n",
    "- **AI-related jobs** tend to offer significantly higher salaries across all industries, with the average salary in AI roles exceeding non-AI roles by over $45,000.\n",
    "- **Industry choice matters** — Technology and Finance roles are high-paying, while roles in Marketing and Construction tend to offer lower compensation.\n",
    "- **AI classification is highly predictable** from just salary and industry, suggesting a clear separation in job types.\n",
    "- **Clustering** shows meaningful segmentation of roles, reinforcing that jobs naturally group into high-skill/high-pay and low-skill/low-pay categories.\n",
    "\n",
    "**Recommendations:**\n",
    "\n",
    "- Job seekers looking to maximize salary potential should **pivot toward AI-focused roles**, especially in the Technology sector.\n",
    "- Candidates should consider **upskilling with AI and data-related tools** to stand out in the evolving market.\n",
    "- Non-AI professionals in lower-paying industries should consider **geographic relocation, reskilling, or transitioning industries** to remain competitive.\n"
   ]
  },
  {
   "cell_type": "code",
   "execution_count": null,
   "metadata": {},
   "outputs": [],
   "source": [
    "from pyspark.ml.clustering import KMeans\n",
    "\n",
    "kmeans = KMeans(k=2, seed=1, featuresCol=\"features\", predictionCol=\"cluster\")\n",
    "model = kmeans.fit(assembled_data)\n",
    "\n",
    "clustered_data = model.transform(assembled_data)\n",
    "clustered_data.select(\"JobTitle\", \"Salary\", \"IsAI\", \"cluster\").show(truncate=False)\n"
   ]
  },
  {
   "cell_type": "code",
   "execution_count": null,
   "metadata": {},
   "outputs": [],
   "source": [
    "from pyspark.ml.evaluation import ClusteringEvaluator\n",
    "\n",
    "clustered_data_for_eval = clustered_data.withColumnRenamed(\"cluster\", \"prediction\")\n",
    "\n",
    "evaluator = ClusteringEvaluator(\n",
    "    featuresCol=\"features\",\n",
    "    predictionCol=\"prediction\",\n",
    "    metricName=\"silhouette\",\n",
    "    distanceMeasure=\"squaredEuclidean\"\n",
    ")\n",
    "\n",
    "silhouette = evaluator.evaluate(clustered_data_for_eval)\n",
    "print(f\"Silhouette Score: {silhouette:.3f}\")\n"
   ]
  },
  {
   "cell_type": "code",
   "execution_count": null,
   "metadata": {},
   "outputs": [],
   "source": [
    "from pyspark.ml.feature import StringIndexer, OneHotEncoder, VectorAssembler\n",
    "from pyspark.ml import Pipeline\n",
    "\n",
    "indexer = StringIndexer(inputCol=\"Industry\", outputCol=\"IndustryIndex\")\n",
    "encoder = OneHotEncoder(inputCol=\"IndustryIndex\", outputCol=\"IndustryVec\")\n",
    "assembler = VectorAssembler(inputCols=[\"IsAI\", \"IndustryVec\"], outputCol=\"features\")\n",
    "\n",
    "pipeline = Pipeline(stages=[indexer, encoder, assembler])\n",
    "pipeline_model = pipeline.fit(df)\n",
    "transformed_data = pipeline_model.transform(df)\n"
   ]
  },
  {
   "cell_type": "code",
   "execution_count": null,
   "metadata": {},
   "outputs": [],
   "source": [
    "train_data, test_data = transformed_data.randomSplit([0.8, 0.2], seed=42)\n"
   ]
  },
  {
   "cell_type": "code",
   "execution_count": null,
   "metadata": {},
   "outputs": [],
   "source": [
    "from pyspark.ml.regression import LinearRegression\n",
    "\n",
    "lr = LinearRegression(featuresCol=\"features\", labelCol=\"Salary\")\n",
    "lr_model = lr.fit(train_data)\n"
   ]
  },
  {
   "cell_type": "code",
   "execution_count": null,
   "metadata": {},
   "outputs": [],
   "source": [
    "!pip install scikit-learn seaborn matplotlib\n"
   ]
  },
  {
   "cell_type": "code",
   "execution_count": null,
   "metadata": {},
   "outputs": [],
   "source": [
    "from sklearn.metrics import confusion_matrix\n",
    "import seaborn as sns\n",
    "import matplotlib.pyplot as plt\n"
   ]
  },
  {
   "cell_type": "code",
   "execution_count": null,
   "metadata": {},
   "outputs": [],
   "source": [
    "from sklearn.metrics import confusion_matrix\n",
    "import seaborn as sns\n",
    "import matplotlib.pyplot as plt\n",
    "\n",
    "y_true = predictions.select(\"IsAI\").toPandas()\n",
    "y_pred = predictions.select(\"prediction\").toPandas()\n",
    "\n",
    "cm = confusion_matrix(y_true, y_pred)\n",
    "\n",
    "sns.heatmap(cm, annot=True, fmt=\"d\", cmap=\"Blues\")\n",
    "plt.xlabel(\"Predicted\")\n",
    "plt.ylabel(\"Actual\")\n",
    "plt.title(\"Confusion Matrix\")\n",
    "plt.show()\n"
   ]
  },
  {
   "cell_type": "code",
   "execution_count": null,
   "metadata": {},
   "outputs": [],
   "source": [
    "predictions = lr_model.transform(test_data)\n",
    "\n",
    "from pyspark.ml.evaluation import RegressionEvaluator\n",
    "\n",
    "rmse = RegressionEvaluator(labelCol=\"Salary\", predictionCol=\"prediction\", metricName=\"rmse\").evaluate(predictions)\n",
    "r2 = RegressionEvaluator(labelCol=\"Salary\", predictionCol=\"prediction\", metricName=\"r2\").evaluate(predictions)\n",
    "\n",
    "print(f\"RMSE: {rmse:.2f}\")\n",
    "print(f\"R2: {r2:.2f}\")\n"
   ]
  },
  {
   "cell_type": "code",
   "execution_count": null,
   "metadata": {},
   "outputs": [],
   "source": [
    "lr_model.coefficients\n"
   ]
  },
  {
   "cell_type": "code",
   "execution_count": null,
   "metadata": {},
   "outputs": [],
   "source": [
    "industries = pipeline_model.stages[0].labels\n",
    "\n",
    "print(f\"Intercept: {lr_model.intercept}\")\n",
    "print(\"Coefficients:\")\n",
    "print(f\"IsAI: {lr_model.coefficients[0]}\")\n",
    "for i, name in enumerate(industries):\n",
    "    print(f\"Industry={name}: {lr_model.coefficients[i+1]}\")\n"
   ]
  },
  {
   "cell_type": "code",
   "execution_count": null,
   "metadata": {},
   "outputs": [],
   "source": [
    "industries = pipeline_model.stages[0].labels\n",
    "\n",
    "print(f\"Intercept: {lr_model.intercept}\")\n",
    "print(\"Coefficients:\")\n",
    "print(f\"IsAI: {lr_model.coefficients[0]}\")\n",
    "for i in range(len(lr_model.coefficients) - 1):\n",
    "    print(f\"Industry={industries[i+1]}: {lr_model.coefficients[i+1]}\")\n"
   ]
  },
  {
   "cell_type": "code",
   "execution_count": null,
   "metadata": {},
   "outputs": [],
   "source": [
    "indexer = StringIndexer(inputCol=\"Industry\", outputCol=\"IndustryIndex\")\n",
    "encoder = OneHotEncoder(inputCol=\"IndustryIndex\", outputCol=\"IndustryVec\")\n",
    "assembler = VectorAssembler(inputCols=[\"Salary\", \"IndustryVec\"], outputCol=\"features\")\n",
    "\n",
    "pipeline = Pipeline(stages=[indexer, encoder, assembler])\n",
    "pipeline_model = pipeline.fit(df)\n",
    "transformed_data = pipeline_model.transform(df)\n"
   ]
  },
  {
   "cell_type": "code",
   "execution_count": null,
   "metadata": {},
   "outputs": [],
   "source": [
    "train_data, test_data = transformed_data.randomSplit([0.8, 0.2], seed=42)\n"
   ]
  },
  {
   "cell_type": "code",
   "execution_count": null,
   "metadata": {},
   "outputs": [],
   "source": [
    "from pyspark.ml.classification import LogisticRegression\n",
    "\n",
    "lr = LogisticRegression(featuresCol=\"features\", labelCol=\"IsAI\")\n",
    "lr_model = lr.fit(train_data)\n"
   ]
  },
  {
   "cell_type": "code",
   "execution_count": null,
   "metadata": {},
   "outputs": [],
   "source": [
    "predictions = lr_model.transform(test_data)\n",
    "\n",
    "from pyspark.ml.evaluation import MulticlassClassificationEvaluator\n",
    "\n",
    "accuracy = MulticlassClassificationEvaluator(labelCol=\"IsAI\", predictionCol=\"prediction\", metricName=\"accuracy\").evaluate(predictions)\n",
    "f1 = MulticlassClassificationEvaluator(labelCol=\"IsAI\", predictionCol=\"prediction\", metricName=\"f1\").evaluate(predictions)\n",
    "\n",
    "print(f\"Accuracy: {accuracy:.2f}\")\n",
    "print(f\"F1 Score: {f1:.2f}\")\n"
   ]
  },
  {
   "cell_type": "code",
   "execution_count": null,
   "metadata": {},
   "outputs": [],
   "source": [
    "!pip install plotly\n"
   ]
  },
  {
   "cell_type": "code",
   "execution_count": null,
   "metadata": {},
   "outputs": [],
   "source": [
    "import plotly.express as px\n",
    "import pandas as pd\n",
    "\n",
    "pandas_df = df.select(\"Industry\", \"Salary\").toPandas()\n",
    "\n",
    "fig = px.box(pandas_df, x=\"Industry\", y=\"Salary\", template=\"plotly_white\", title=\"Salary Distribution by Industry\")\n",
    "fig.show()\n"
   ]
  },
  {
   "cell_type": "code",
   "execution_count": null,
   "metadata": {},
   "outputs": [],
   "source": [
    "pandas_df = df.select(\"IsAI\").toPandas()\n",
    "pandas_df[\"IsAI\"] = pandas_df[\"IsAI\"].map({1: \"AI\", 0: \"Non-AI\"})\n",
    "\n",
    "fig = px.histogram(pandas_df, x=\"IsAI\", template=\"plotly_white\", title=\"AI vs Non-AI Job Count\")\n",
    "fig.show()\n"
   ]
  },
  {
   "cell_type": "code",
   "execution_count": null,
   "metadata": {},
   "outputs": [],
   "source": [
    "clustered_df = clustered_data.select(\"Salary\", \"IsAI\", \"cluster\").toPandas()\n",
    "\n",
    "fig = px.scatter(clustered_df, x=\"Salary\", y=\"IsAI\", color=\"cluster\", template=\"plotly_white\", title=\"KMeans Job Clustering\")\n",
    "fig.show()\n"
   ]
  },
  {
   "cell_type": "markdown",
   "metadata": {},
   "source": [
    "## Job Seeker Insights and Recommendations\n",
    "\n",
    "Based on our analysis of job data from 2024:\n",
    "\n",
    "- **AI-related jobs** tend to offer significantly higher salaries across all industries, with the average salary in AI roles exceeding non-AI roles by over $45,000.\n",
    "- **Industry choice matters** — Technology and Finance roles are high-paying, while roles in Marketing and Construction tend to offer lower compensation.\n",
    "- **AI classification is highly predictable** from just salary and industry, suggesting a clear separation in job types.\n",
    "- **Clustering** shows meaningful segmentation of roles, reinforcing that jobs naturally group into high-skill/high-pay and low-skill/low-pay categories.\n",
    "\n",
    "**Recommendations:**\n",
    "\n",
    "- Job seekers looking to maximize salary potential should **pivot toward AI-focused roles**, especially in the Technology sector.\n",
    "- Candidates should consider **upskilling with AI and data-related tools** to stand out in the evolving market.\n",
    "- Non-AI professionals in lower-paying industries should consider **geographic relocation, reskilling, or transitioning industries** to remain competitive.\n"
   ]
  }
 ],
 "metadata": {
  "kernelspec": {
   "display_name": "Python 3",
   "language": "python",
   "name": "python3"
  },
  "language_info": {
   "codemirror_mode": {
    "name": "ipython",
    "version": 3
   },
   "file_extension": ".py",
   "mimetype": "text/x-python",
   "name": "python",
   "nbconvert_exporter": "python",
   "pygments_lexer": "ipython3",
   "version": "3.12.3"
  }
 },
 "nbformat": 4,
 "nbformat_minor": 2
}
